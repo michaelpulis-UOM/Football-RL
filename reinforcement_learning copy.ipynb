{
 "cells": [
  {
   "cell_type": "markdown",
   "metadata": {},
   "source": [
    "Import the required libraries"
   ]
  },
  {
   "cell_type": "code",
   "execution_count": 1,
   "metadata": {},
   "outputs": [
    {
     "name": "stdout",
     "output_type": "stream",
     "text": [
      "importing Jupyter notebook from FootballEnv.ipynb\n"
     ]
    }
   ],
   "source": [
    "from d3rlpy.datasets import get_cartpole\n",
    "from d3rlpy.algos import DiscreteCQL, DQN, TD3PlusBC\n",
    "from d3rlpy.metrics.scorer import discounted_sum_of_advantage_scorer\n",
    "from d3rlpy.metrics.scorer import evaluate_on_environment\n",
    "from d3rlpy.dataset import Episode\n",
    "from d3rlpy.ope import DiscreteFQE\n",
    "from d3rlpy.dataset import MDPDataset\n",
    "\n",
    "from d3rlpy.metrics.scorer import td_error_scorer\n",
    "from d3rlpy.metrics.scorer import average_value_estimation_scorer\n",
    "from sklearn.model_selection import train_test_split\n",
    "\n",
    "import import_ipynb\n",
    "import numpy as np\n",
    "from random import random\n",
    "from create_dataset import CreateDataset\n",
    "from FootballEnv import FootballEnv\n",
    "from tqdm import tqdm\n",
    "\n",
    "from view import Visualiser\n",
    "import math\n",
    "# metrics to evaluate with\n",
    "from d3rlpy.metrics.scorer import initial_state_value_estimation_scorer\n",
    "from d3rlpy.metrics.scorer import soft_opc_scorer\n"
   ]
  },
  {
   "cell_type": "markdown",
   "metadata": {},
   "source": [
    "Helper function to create a dummy dataset"
   ]
  },
  {
   "cell_type": "code",
   "execution_count": 2,
   "metadata": {},
   "outputs": [],
   "source": [
    "def create_dataset():\n",
    "\n",
    "    dataset_maker = CreateDataset()\n",
    "    # dataset_maker.loadFile('data.json')\n",
    "    dataset_maker.loadTrackingContentFromDir('three-sixty/*.json')\n",
    "\n",
    "    dataset_maker.loadFilesFromDir('events/*.json', filterGamesWithoutTrackingData=True)\n",
    "    observations, actions, rewards, episode_info = dataset_maker.createEpisodeDataset()\n",
    "    terminals = np.array([ 0 if (i+1) % dataset_maker.lim == 0 else 1 for i in range(len(actions)) ])\n",
    "    return MDPDataset(\n",
    "        observations,\n",
    "        actions,\n",
    "        rewards, \n",
    "        terminals,\n",
    "    ), observations"
   ]
  },
  {
   "cell_type": "code",
   "execution_count": 3,
   "metadata": {},
   "outputs": [
    {
     "name": "stderr",
     "output_type": "stream",
     "text": [
      "100%|██████████| 3/3 [00:00<00:00,  4.40it/s]\n",
      "100%|██████████| 1105/1105 [00:00<00:00, 3358.71it/s]\n"
     ]
    },
    {
     "name": "stdout",
     "output_type": "stream",
     "text": [
      "Events length:  5232\n"
     ]
    }
   ],
   "source": [
    "dataset, observations = create_dataset()\n",
    "train_episodes, test_episodes = train_test_split(dataset, test_size=0.2, shuffle=False)"
   ]
  },
  {
   "cell_type": "code",
   "execution_count": 5,
   "metadata": {},
   "outputs": [
    {
     "data": {
      "text/plain": [
       "120"
      ]
     },
     "execution_count": 5,
     "metadata": {},
     "output_type": "execute_result"
    }
   ],
   "source": [
    "len(test_episodes)"
   ]
  },
  {
   "cell_type": "code",
   "execution_count": null,
   "metadata": {},
   "outputs": [],
   "source": [
    "s = {}\n",
    "d = CreateDataset()\n",
    "for o in observations:\n",
    "    a = o[-3]\n",
    "    action = d.ID_to_str[a]\n",
    "\n",
    "    if action in s: s[action] += 1\n",
    "    else: s[action] = 1\n",
    "\n",
    "s"
   ]
  },
  {
   "cell_type": "code",
   "execution_count": null,
   "metadata": {},
   "outputs": [],
   "source": [
    "# setup CQL algorithm\n",
    "cql = DiscreteCQL(use_gpu=False, batch_size=32,)\n",
    "\n",
    "# env = FootballEnv(observations)\n",
    "# env.counter = 0\n",
    "\n",
    "# start training\n",
    "output = cql.fit(\n",
    "\n",
    "    train_episodes,\n",
    "    # eval_episodes=test_episodes,\n",
    "    n_epochs=25,\n",
    "    \n",
    "    scorers={\n",
    "        # 'environment': evaluate_on_environment(env), # evaluate with Football Env\n",
    "        'advantage': discounted_sum_of_advantage_scorer, # smaller is better\n",
    "        'td_error': td_error_scorer, # smaller is better\n",
    "        'value_scale': average_value_estimation_scorer # smaller is better\n",
    "    }\n",
    "    \n",
    ")"
   ]
  },
  {
   "cell_type": "code",
   "execution_count": null,
   "metadata": {},
   "outputs": [],
   "source": [
    "output"
   ]
  },
  {
   "cell_type": "code",
   "execution_count": null,
   "metadata": {},
   "outputs": [],
   "source": [
    "# TODO: MAKE THIS WORK!\n",
    "\n",
    "# off-policy evaluation algorithm\n",
    "fqe = DiscreteFQE(algo=cql)\n",
    "\n",
    "# train estimators to evaluate the trained policy\n",
    "fqe.fit(test_episodes,\n",
    "   eval_episodes=test_episodes,\n",
    "   n_epochs=50,\n",
    "   scorers={\n",
    "      'init_value': initial_state_value_estimation_scorer,\n",
    "      'soft_opc': soft_opc_scorer(return_threshold=600)\n",
    "   }\n",
    ")"
   ]
  },
  {
   "cell_type": "markdown",
   "metadata": {},
   "source": [
    "Load Saved Model"
   ]
  },
  {
   "cell_type": "code",
   "execution_count": 2,
   "metadata": {},
   "outputs": [
    {
     "name": "stdout",
     "output_type": "stream",
     "text": [
      "2022-04-04 17:03.10 [warning  ] Unused arguments are passed.   action_scaler=None algorithm=DiscreteCQL generated_maxlen=100000 real_ratio=1.0\n"
     ]
    }
   ],
   "source": [
    "path =  \"C:\\\\Users\\\\micha\\\\Documents\\\\Masters\\\\Football-RL\\\\d3rlpy_logs\\\\DiscreteCQL_20220210223510\\\\\"\n",
    "m2 = DiscreteCQL.from_json(f'{path}params.json')\n",
    "# d3rlpy_logs\\DQN_20220410175914\\model_2500.pt\n",
    "# ready to load\n",
    "m2.load_model(f'{path}model_36975.pt')"
   ]
  },
  {
   "cell_type": "code",
   "execution_count": 10,
   "metadata": {},
   "outputs": [],
   "source": [
    "def get_softmaxed(model, state, possible_actions):\n",
    "    values = [i for i in range(len(possible_actions))]\n",
    "\n",
    "    smallest = float(math.inf)\n",
    "    for action in possible_actions:\n",
    "        values[action] = model.predict_value([state], [action])\n",
    "        smallest = min(smallest, values[action])\n",
    "        \n",
    "    print(\"before before\" , values)\n",
    "    smallest = abs(smallest)\n",
    "    # make all positive\n",
    "    for action in possible_actions:\n",
    "        print(action)\n",
    "        values[action] += smallest\n",
    "\n",
    "    print(\"before\", values)\n",
    "    values = np.array(values)\n",
    "    values = np.exp(values) / np.sum(np.exp(values), axis=0)\n",
    "    return values\n",
    "    \n"
   ]
  },
  {
   "cell_type": "markdown",
   "metadata": {},
   "source": [
    "Visualise predictions"
   ]
  },
  {
   "cell_type": "code",
   "execution_count": 4,
   "metadata": {},
   "outputs": [],
   "source": [
    "ds = CreateDataset()\n",
    "# ds.loadFilesFromDir('events/*.json')\n",
    "ds.loadTrackingContentFromDir('three-sixty/*.json')\n",
    "\n",
    "ds.loadFilesFromDir('events/*.json', filterGamesWithoutTrackingData=True)\n",
    "# ds.loadFile('data.json')\n",
    "\n",
    "visualiser = Visualiser()\n",
    "\n",
    "# ds.loadFilesFromDir('events/*.json')\n",
    "\n",
    "print(\"hello\")\n",
    "observations, actions, rewards, event_ids = ds.createEpisodeDataset()\n",
    "answers = {}\n",
    "players = {}\n",
    "\n",
    "a_set = set()\n",
    "for a in actions:\n",
    "    a_set.add(a)\n",
    "\n",
    "for item in a_set:\n",
    "    print(ds.ID_to_str[item])\n",
    "\n",
    "\n",
    "print(observations.shape, len(event_ids))\n",
    "for i, situation in tqdm(enumerate(observations)):\n",
    "\n",
    "    # print(situation)\n",
    "    predictions = m2.predict([situation])[0]\n",
    "    g_s_m = get_softmaxed(m2, situation, list(ds.good_events.values()))\n",
    "    print(g_s_m, sum(g_s_m))\n",
    "\n",
    "    print(\"One Hot\", m2.predict([situation])[0])\n",
    "    for key, value in ds.good_events.items():\n",
    "        print(key, value)\n",
    "        print(f\"{key}: \", m2.predict_value([situation], [value]))\n",
    "        \n",
    "    p = ds.ID_to_str[predictions]\n",
    "    if not (p in answers): answers[p] = 1\n",
    "    else: answers[p] += 1\n",
    "\n",
    "    # if(p == \"shot\"):\n",
    "    #     print(event_ids[i])\n",
    "    #     print([ds.getPlayerFromActionID(event) for event in event_ids[i]])\n",
    "    event = ds.getActionFromID(event_ids[i][-2])\n",
    "    \n",
    "    if(p == \"shot\"):\n",
    "\n",
    "        event = ds.getActionFromID(event_ids[i][-2])\n",
    "        visualiser.visualise_sequence(situation, 3, predictions, ds.getIDFromAction(event))\n",
    "\n",
    "    player = event['player']\n",
    "    if not(player['id'] in players):\n",
    "        players[player['id']] = {}\n",
    "        players[player['id']]['name'] = player['name']\n",
    "        players[player['id']]['good'] = 0\n",
    "        players[player['id']]['bad'] = 0\n",
    "        \n",
    "\n",
    "    # print(\"Action taken:\", ds.ID_to_str[ds.getIDFromAction(event)], p)\n",
    "    if predictions ==  ds.getIDFromAction(event):\n",
    "        players[player['id']]['good'] += 1\n",
    "    else:\n",
    "        players[player['id']]['bad'] += 1\n",
    "\n",
    "    if((players[player['id']]['good'] + players[player['id']]['bad']) > 0):\n",
    "        players[player['id']]['ratio'] = players[player['id']]['good'] / (players[player['id']]['good'] + players[player['id']]['bad']) \n",
    "    else:\n",
    "        players[player['id']]['ratio'] = 0\n",
    "        \n",
    "    \n",
    "    # if(p == \"clearance\"):\n",
    "    #     visualiser.visualise_sequence(situation, 3, predictions)\n",
    "\n",
    "print(\"finished\")"
   ]
  },
  {
   "cell_type": "code",
   "execution_count": null,
   "metadata": {},
   "outputs": [],
   "source": [
    "players_2 = {}\n",
    "for key, player in players.items():\n",
    "    if 'good' in player and 'bad' in player and (player['good'] + player['bad'] > 5):\n",
    "        players_2[key] = player\n",
    "\n",
    "\n",
    "players_sorted =  sorted(players_2.items(), key=lambda x: x[1]['ratio'], reverse=True)\n",
    "players_sorted[:10]\n"
   ]
  },
  {
   "cell_type": "code",
   "execution_count": null,
   "metadata": {},
   "outputs": [],
   "source": [
    "\n",
    "players_sorted =  sorted(players_2.items(), key=lambda x: x[1]['ratio'], reverse=True)\n",
    "players_sorted[:10]\n"
   ]
  },
  {
   "cell_type": "code",
   "execution_count": null,
   "metadata": {},
   "outputs": [],
   "source": [
    "counts = {}\n",
    "\n",
    "for item in actions:\n",
    "    if not (item in counts): counts[item] = 1\n",
    "    else: counts[item] += 1\n",
    "\n",
    "counts\n"
   ]
  },
  {
   "cell_type": "code",
   "execution_count": null,
   "metadata": {},
   "outputs": [],
   "source": [
    "self.good_events = {\n",
    "    'pass': self.PASS,\n",
    "    'shot': self.SHOOT,\n",
    "    'carry':self.CARRY,\n",
    "    'clearance':self.CLEAR,\n",
    "    # 'foul won': self.FOUL,\n",
    "    'foul': self.FOUL,\n",
    "}"
   ]
  },
  {
   "cell_type": "code",
   "execution_count": null,
   "metadata": {},
   "outputs": [],
   "source": [
    "import json\n",
    "\n",
    "player_data = {}\n",
    "events = {}\n",
    "with open (\"data.json\", \"r\") as file:\n",
    "    events = json.load(file)\n",
    "\n",
    "ds.ID_to_str[predictions]\n",
    "\n",
    "count = 0\n",
    "for event in events:\n",
    "    if event['type']['name'].lower() in ds.good_events:\n",
    "        player = event['player']\n",
    "\n",
    "        if player['id'] in player_data:\n",
    "        else:\n",
    "            player_data['id'] = {}\n",
    "            player_data['id']['name'] = player['name']\n",
    "            player_data['id']['good'] += 1\n",
    "\n",
    "count\n"
   ]
  },
  {
   "cell_type": "markdown",
   "metadata": {},
   "source": [
    "Training using images"
   ]
  },
  {
   "cell_type": "code",
   "execution_count": 16,
   "metadata": {},
   "outputs": [],
   "source": [
    "from d3rlpy.datasets import get_cartpole\n",
    "from d3rlpy.algos import DiscreteCQL, DQN, CQL, IQL, PLAS, TD3PlusBC\n",
    "from d3rlpy.metrics.scorer import discounted_sum_of_advantage_scorer\n",
    "from d3rlpy.metrics.scorer import evaluate_on_environment\n",
    "from d3rlpy.dataset import Episode\n",
    "from d3rlpy.ope import DiscreteFQE\n",
    "from d3rlpy.dataset import MDPDataset\n",
    "\n",
    "from d3rlpy.metrics.scorer import td_error_scorer\n",
    "from d3rlpy.metrics.scorer import average_value_estimation_scorer\n",
    "from sklearn.model_selection import train_test_split\n",
    "\n",
    "import import_ipynb\n",
    "import numpy as np\n",
    "from random import random\n",
    "from create_dataset import CreateDataset\n",
    "from tqdm import tqdm\n",
    "\n",
    "from view import Visualiser\n",
    "import math\n",
    "# metrics to evaluate with\n",
    "from d3rlpy.metrics.scorer import initial_state_value_estimation_scorer\n",
    "from d3rlpy.metrics.scorer import soft_opc_scorer\n",
    "\n",
    "def create_dataset_images():\n",
    "\n",
    "    datasetMaker = CreateDataset()\n",
    "    datasetMaker.loadTrackingContentFromDir('three-sixty/*.json')\n",
    "    datasetMaker.file_limit = 25\n",
    "    datasetMaker.loadFilesFromDir('events/*.json', filterGamesWithoutTrackingData=True)\n",
    "    observations, actions, rewards, event_ids, terminals = datasetMaker.createImageDataset()\n",
    "\n",
    "    print(\"Actions shape:\", actions.shape)\n",
    "    print(\"Observation shape:\", observations.shape)\n",
    "\n",
    "    return MDPDataset(\n",
    "        observations,\n",
    "        np.array(actions, dtype=np.float32),\n",
    "        rewards, \n",
    "        terminals,\n",
    "\n",
    "        discrete_action=False\n",
    "    ), (observations, actions, rewards, event_ids, terminals)"
   ]
  },
  {
   "cell_type": "code",
   "execution_count": 17,
   "metadata": {},
   "outputs": [
    {
     "name": "stderr",
     "output_type": "stream",
     "text": [
      "  2%|▏         | 1/50 [00:00<00:05,  8.55it/s]"
     ]
    },
    {
     "name": "stdout",
     "output_type": "stream",
     "text": [
      "Loading tracking content:\n"
     ]
    },
    {
     "name": "stderr",
     "output_type": "stream",
     "text": [
      "100%|██████████| 50/50 [00:08<00:00,  5.58it/s]\n",
      "file count: 25 / 25:  60%|██████    | 666/1105 [00:02<00:01, 327.90it/s] \n",
      "100%|██████████| 44266/44266 [00:08<00:00, 5478.62it/s]\n"
     ]
    },
    {
     "name": "stdout",
     "output_type": "stream",
     "text": [
      "Actions shape: (44266, 6)\n",
      "Observation shape: (44266, 3, 80, 120)\n",
      "5474\n"
     ]
    },
    {
     "data": {
      "text/plain": [
       "(5474, 4379)"
      ]
     },
     "execution_count": 17,
     "metadata": {},
     "output_type": "execute_result"
    }
   ],
   "source": [
    "dataset, _split = create_dataset_images()\n",
    "\n",
    "print(len(dataset))\n",
    "train_episodes, test_episodes = train_test_split(dataset, test_size=0.2, shuffle=True)\n",
    "len(dataset), len(train_episodes)"
   ]
  },
  {
   "cell_type": "code",
   "execution_count": 3,
   "metadata": {},
   "outputs": [
    {
     "name": "stdout",
     "output_type": "stream",
     "text": [
      "(44266, 3, 80, 120)\n",
      "(44266, 6)\n",
      "(44266,)\n",
      "(44266,)\n",
      "(44266,)\n"
     ]
    }
   ],
   "source": [
    "# print the shape of every item in _split with for loop\n",
    "for item in _split:\n",
    "    print(item.shape)\n"
   ]
  },
  {
   "cell_type": "code",
   "execution_count": 19,
   "metadata": {},
   "outputs": [
    {
     "name": "stdout",
     "output_type": "stream",
     "text": [
      "2022-04-15 19:19.42 [debug    ] RoundIterator is selected.\n",
      "2022-04-15 19:19.42 [info     ] Directory is created at d3rlpy_logs\\TD3PlusBC_20220415191942\n",
      "2022-04-15 19:19.42 [debug    ] Fitting scaler...              scaler=pixel\n",
      "2022-04-15 19:19.42 [debug    ] Building models...\n",
      "2022-04-15 19:19.42 [debug    ] Models have been built.\n",
      "2022-04-15 19:19.42 [info     ] Parameters are saved to d3rlpy_logs\\TD3PlusBC_20220415191942\\params.json params={'action_scaler': None, 'actor_encoder_factory': {'type': 'default', 'params': {'activation': 'relu', 'use_batch_norm': False, 'dropout_rate': None}}, 'actor_learning_rate': 0.0003, 'actor_optim_factory': {'optim_cls': 'Adam', 'betas': (0.9, 0.999), 'eps': 1e-08, 'weight_decay': 0, 'amsgrad': False}, 'alpha': 2.5, 'batch_size': 256, 'critic_encoder_factory': {'type': 'default', 'params': {'activation': 'relu', 'use_batch_norm': False, 'dropout_rate': None}}, 'critic_learning_rate': 0.0003, 'critic_optim_factory': {'optim_cls': 'Adam', 'betas': (0.9, 0.999), 'eps': 1e-08, 'weight_decay': 0, 'amsgrad': False}, 'gamma': 0.99, 'generated_maxlen': 100000, 'n_critics': 2, 'n_frames': 1, 'n_steps': 1, 'q_func_factory': {'type': 'mean', 'params': {'bootstrap': False, 'share_encoder': False}}, 'real_ratio': 1.0, 'reward_scaler': None, 'scaler': {'type': 'pixel', 'params': {}}, 'target_reduction_type': 'min', 'target_smoothing_clip': 0.5, 'target_smoothing_sigma': 0.2, 'tau': 0.005, 'update_actor_interval': 2, 'use_gpu': None, 'algorithm': 'TD3PlusBC', 'observation_shape': (3, 80, 120), 'action_size': 6}\n"
     ]
    },
    {
     "name": "stderr",
     "output_type": "stream",
     "text": [
      "Epoch 1/35:  52%|█████▏    | 64/122 [01:42<01:29,  1.55s/it, critic_loss=0.179, actor_loss=3.15]"
     ]
    }
   ],
   "source": [
    "# setup td3 algorithm\n",
    "td3pbc = TD3PlusBC(use_gpu=False, scaler='pixel', n_frames=1)\n",
    "\n",
    "# start training\n",
    "output = td3pbc.fit(\n",
    "\n",
    "    train_episodes,\n",
    "    n_epochs = 35,\n",
    "    # batch_size = 64,\n",
    "    # eval_episodes=test_episodes,\n",
    "    # n_epochs=25,\n",
    "    \n",
    "    scorers={\n",
    "        'advantage': discounted_sum_of_advantage_scorer, # smaller is better\n",
    "        'td_error': td_error_scorer, # smaller is better\n",
    "        'value_scale': average_value_estimation_scorer # smaller is better\n",
    "    }\n",
    "    \n",
    ")"
   ]
  },
  {
   "cell_type": "code",
   "execution_count": 4,
   "metadata": {},
   "outputs": [
    {
     "name": "stdout",
     "output_type": "stream",
     "text": [
      "(14987, 3, 80, 120)\n",
      "(14987, 2)\n",
      "(14987,)\n",
      "(0,)\n",
      "(14987,)\n"
     ]
    }
   ],
   "source": [
    "for item in _split:\n",
    "    print(item.shape)"
   ]
  },
  {
   "cell_type": "code",
   "execution_count": 2,
   "metadata": {},
   "outputs": [],
   "source": [
    "import cv2\n",
    "# d3rlpy_logs\\DQN_20220410175914\\model_2500.pt"
   ]
  },
  {
   "cell_type": "code",
   "execution_count": 2,
   "metadata": {},
   "outputs": [
    {
     "name": "stdout",
     "output_type": "stream",
     "text": [
      "2022-04-15 14:46.46 [warning  ] Unused arguments are passed.   algorithm=PLAS generated_maxlen=100000 real_ratio=1.0\n"
     ]
    }
   ],
   "source": [
    "path =  \"C:\\\\Users\\\\micha\\\\Documents\\\\Masters\\\\Football-RL\\\\d3rlpy_logs\\\\PLAS_20220415135630\\\\\"\n",
    "\n",
    "# d3rlpy_logs\\PLAS_20220415103354\\model_1938.pt\n",
    "plas = PLAS.from_json(f'{path}params.json')\n",
    "# \n",
    "# ready to load\n",
    "plas.load_model(f'{path}model_2060.pt')"
   ]
  },
  {
   "cell_type": "code",
   "execution_count": 11,
   "metadata": {},
   "outputs": [
    {
     "name": "stdout",
     "output_type": "stream",
     "text": [
      "yep\n"
     ]
    }
   ],
   "source": [
    "if 'lolol' not in locals():\n",
    "    print(\"yep\")\n",
    "else:\n",
    "    print(\"no\")"
   ]
  },
  {
   "cell_type": "code",
   "execution_count": 5,
   "metadata": {},
   "outputs": [],
   "source": [
    "import cv2\n",
    "import numpy as np"
   ]
  },
  {
   "cell_type": "code",
   "execution_count": 23,
   "metadata": {},
   "outputs": [
    {
     "name": "stderr",
     "output_type": "stream",
     "text": [
      "0it [00:00, ?it/s]"
     ]
    },
    {
     "name": "stdout",
     "output_type": "stream",
     "text": [
      "bbc398f7-c784-4958-a504-37b583caf97a\n",
      "get zone from event\n",
      "action taken 1.0 0.0\n",
      "(0, 2)\n",
      "[32.5, 28.8]\n",
      "bbc398f7-c784-4958-a504-37b583caf97a Pass\n",
      "(4, 4)\n",
      "before [32.5 28.8]\n",
      "after [65.  57.6]\n"
     ]
    },
    {
     "name": "stderr",
     "output_type": "stream",
     "text": [
      "0it [00:07, ?it/s]\n"
     ]
    }
   ],
   "source": [
    "if 'observations' not in locals():\n",
    "\n",
    "    ds = CreateDataset()\n",
    "    ds.loadTrackingContentFromDir('three-sixty/*.json')\n",
    "    ds.file_limit = 1\n",
    "    ds.loadFilesFromDir('events/*.json', filterGamesWithoutTrackingData=True)\n",
    "    observations, actions, rewards, event_ids, terminals = ds.createImageDataset()\n",
    "\n",
    "    answers = {}\n",
    "    players = {}\n",
    "\n",
    "# observations = _split[0]\n",
    "# actions = _split[1]\n",
    "\n",
    "for i, situation in tqdm(enumerate(observations[50:100])):\n",
    "\n",
    "    action_taken = actions[i]\n",
    "    z0a, z1a = int(action_taken[0] * 11), int(action_taken[1] * 15)\n",
    "\n",
    "    predictions = plas.predict([situation])\n",
    "\n",
    "    t = {'id':event_ids[i]}\n",
    "    print(event_ids[i])\n",
    "    index = ds.get_index_of_event(t)\n",
    "\n",
    "\n",
    "    print(\"get zone from event\")\n",
    "    print(\"action taken\", action_taken[0], action_taken[1])\n",
    "    zone1 = ds.get_zone_from_coords(action_taken[0] * 15, action_taken[1] * 11)\n",
    "    print(zone1)\n",
    "\n",
    "    e = ds.events[index]\n",
    "    print(e[e['type']['name'].lower()]['end_location'])\n",
    "    print(e['id'], e['type']['name'])\n",
    "\n",
    "    z0p, z1p = int(predictions[0][0] * 11), int(predictions[0][1] * 15)\n",
    "\n",
    "    # cv2.imshow(\"image1\", situation[0])\n",
    "    c1 = (255,255,0)\n",
    "    c2 = (0,255,255)\n",
    "    # conret situation[0] to rgb\n",
    "    new_image = cv2.cvtColor(situation[0], cv2.COLOR_BGR2RGB)\n",
    "    # new_image = ds.drawRect(ds.drawRect(situation[0], z0a, z1p, c1), z0p,z1p, c2)\n",
    "\n",
    "    # double image size with cv2\n",
    "    large = cv2.resize(new_image, (0, 0), fx=2, fy=2)\n",
    "    large2 = cv2.resize(situation[1], (0, 0), fx=2, fy=2)\n",
    "    large3 = cv2.resize(situation[2], (0, 0), fx=2, fy=2)\n",
    "\n",
    "    legend = np.zeros(large.shape, large.dtype)\n",
    "    \n",
    "    # draw rectangle on legend\n",
    "    cv2.rectangle(legend, (20, 20), (40, 40), c1, -1)\n",
    "    cv2.rectangle(legend, (20, 60), (40, 80), c2, -1)\n",
    "\n",
    "    # write text at 30,30 saying \"TEAM MATES\" on legend\n",
    "    cv2.putText(legend, \"ACTUAL\", (50, 30), cv2.FONT_HERSHEY_SIMPLEX, 0.5, (255, 255, 255), 1)\n",
    "    cv2.putText(legend, \"PREDICTED\", (50, 70), cv2.FONT_HERSHEY_SIMPLEX, 0.5, (255, 255, 255), 1)\n",
    "\n",
    "    ball_legend = np.zeros(large.shape, large.dtype)\n",
    "    e_l = np.array(e[e['type']['name'].lower()]['end_location'] )\n",
    "\n",
    "    ds.drawRect(large, e_l[0], e_l[0], c1),\n",
    "\n",
    "\n",
    "    gzfc = ds.get_zone_from_coords(e_l[0], e_l[1])\n",
    "    print(gzfc)\n",
    "    print(\"before\", e_l)\n",
    "    e_l = e_l*2\n",
    "    print(\"after\", e_l)\n",
    "    # draw circle at e_l on ball_legend\n",
    "    # print(e_l)\n",
    "    cv2.circle(large, (int(e_l[0]), int(e_l[1])), 5, (255, 0, 0), -1)\n",
    "\n",
    "    cv2.imshow(\"large\", large)\n",
    "    cv2.imshow(\"legend\", legend)\n",
    "    # cv2.imshow(\"ball_legend\", ball_legend)\n",
    "    cv2.imshow(\"team_mates\", large2)\n",
    "    cv2.imshow(\"opposition\", large3)\n",
    "\n",
    "    # if q is pressed break the loop\n",
    "    if cv2.waitKey(0) & 0xFF == ord('q'):\n",
    "        cv2.destroyAllWindows()\n",
    "        break\n",
    "    else:\n",
    "        cv2.destroyAllWindows()\n",
    "\n",
    "    # break\n",
    "\n",
    "    # break\n",
    "    \n",
    "    # if(p == \"shot\"):\n",
    "    #     print(event_ids[i])\n",
    "    #     print([ds.getPlayerFromActionID(event) for event in event_ids[i]])\n",
    "    # event = ds.getActionFromID(event_ids[i][-2])\n",
    "    "
   ]
  },
  {
   "cell_type": "code",
   "execution_count": 6,
   "metadata": {},
   "outputs": [],
   "source": [
    "import cv2\n",
    "import matplotlib.pyplot as plt"
   ]
  },
  {
   "cell_type": "code",
   "execution_count": 14,
   "metadata": {},
   "outputs": [
    {
     "name": "stderr",
     "output_type": "stream",
     "text": [
      "0it [00:00, ?it/s]"
     ]
    },
    {
     "name": "stdout",
     "output_type": "stream",
     "text": [
      "bbc398f7-c784-4958-a504-37b583caf97a\n",
      "bbc398f7-c784-4958-a504-37b583caf97a\n",
      "FROM DATASET [32.5 28.8]\n",
      "actual 0.2708333333333333 0.36\n",
      "predicted 0.5024572 0.47253305\n",
      "start location [60.0, 40.0]\n",
      "actual action Pass\n"
     ]
    },
    {
     "name": "stderr",
     "output_type": "stream",
     "text": [
      "1it [00:04,  4.89s/it]"
     ]
    },
    {
     "name": "stdout",
     "output_type": "stream",
     "text": [
      "605315c0-8960-4f53-94cb-87ae77e86750\n",
      "605315c0-8960-4f53-94cb-87ae77e86750\n",
      "FROM DATASET [36.2 30.4]\n",
      "actual 0.3016666666666667 0.38\n",
      "predicted 0.2942592 0.42543793\n",
      "start location [32.5, 28.8]\n",
      "actual action Carry\n"
     ]
    },
    {
     "name": "stderr",
     "output_type": "stream",
     "text": [
      "2it [00:09,  4.72s/it]"
     ]
    },
    {
     "name": "stdout",
     "output_type": "stream",
     "text": [
      "5c210f79-9714-44a6-b2ec-387f6a117b37\n",
      "5c210f79-9714-44a6-b2ec-387f6a117b37\n",
      "FROM DATASET [70.7 75.8]\n",
      "actual 0.5891666666666667 0.9475\n",
      "predicted 0.2689465 0.44942364\n",
      "start location [36.2, 30.4]\n",
      "actual action Pass\n"
     ]
    },
    {
     "name": "stderr",
     "output_type": "stream",
     "text": [
      "3it [00:13,  4.51s/it]"
     ]
    },
    {
     "name": "stdout",
     "output_type": "stream",
     "text": [
      "37105d1f-4313-4db6-b8ba-76c224e488ca\n",
      "37105d1f-4313-4db6-b8ba-76c224e488ca\n",
      "FROM DATASET [70.4 75.5]\n",
      "actual 0.5866666666666667 0.94375\n",
      "predicted 0.51414996 0.88808566\n",
      "start location [70.7, 75.8]\n",
      "actual action Carry\n"
     ]
    },
    {
     "name": "stderr",
     "output_type": "stream",
     "text": [
      "4it [00:15,  3.74s/it]"
     ]
    },
    {
     "name": "stdout",
     "output_type": "stream",
     "text": [
      "8a3e6668-9680-4417-987e-8db0c6ce6a8b\n",
      "8a3e6668-9680-4417-987e-8db0c6ce6a8b\n",
      "FROM DATASET [15.8  7.5]\n",
      "actual 0.13166666666666668 0.09375\n",
      "predicted 0.38108718 0.22632672\n",
      "start location [43.1, 0.1]\n",
      "actual action Pass\n"
     ]
    },
    {
     "name": "stderr",
     "output_type": "stream",
     "text": [
      "5it [00:33,  8.08s/it]"
     ]
    },
    {
     "name": "stdout",
     "output_type": "stream",
     "text": [
      "27fdb7ff-f108-4d83-84bf-7d2dace7c40f\n",
      "27fdb7ff-f108-4d83-84bf-7d2dace7c40f\n",
      "FROM DATASET [ 3.3 12.7]\n",
      "actual 0.0275 0.15875\n",
      "predicted 0.17483583 0.19747801\n",
      "start location [15.8, 7.5]\n",
      "actual action Carry\n"
     ]
    },
    {
     "name": "stderr",
     "output_type": "stream",
     "text": [
      "6it [00:38,  7.28s/it]"
     ]
    },
    {
     "name": "stdout",
     "output_type": "stream",
     "text": [
      "f8e61bb0-b618-4695-9ff9-eaa0584bdbfa\n",
      "f8e61bb0-b618-4695-9ff9-eaa0584bdbfa\n",
      "FROM DATASET [ 7.9 36.2]\n",
      "actual 0.06583333333333334 0.4525\n",
      "predicted 0.23442237 0.38635498\n",
      "start location [3.3, 12.7]\n",
      "actual action Pass\n"
     ]
    },
    {
     "name": "stderr",
     "output_type": "stream",
     "text": [
      "7it [00:58, 11.06s/it]"
     ]
    },
    {
     "name": "stdout",
     "output_type": "stream",
     "text": [
      "38dc9935-ad24-456f-9a78-b40233519f7f\n",
      "38dc9935-ad24-456f-9a78-b40233519f7f\n",
      "FROM DATASET [ 9.1 38.9]\n",
      "actual 0.07583333333333334 0.48624999999999996\n",
      "predicted 0.06421925 0.35905623\n",
      "start location [7.9, 36.2]\n",
      "actual action Carry\n"
     ]
    },
    {
     "name": "stderr",
     "output_type": "stream",
     "text": [
      "8it [01:11, 11.53s/it]"
     ]
    },
    {
     "name": "stdout",
     "output_type": "stream",
     "text": [
      "1d72ce76-31fd-43e0-a6b2-1f78c8a57a77\n",
      "1d72ce76-31fd-43e0-a6b2-1f78c8a57a77\n",
      "FROM DATASET [19.7 47.9]\n",
      "actual 0.16416666666666666 0.59875\n",
      "predicted 0.14168467 0.45714763\n",
      "start location [9.1, 38.9]\n",
      "actual action Pass\n"
     ]
    },
    {
     "name": "stderr",
     "output_type": "stream",
     "text": [
      "9it [01:14,  8.88s/it]"
     ]
    },
    {
     "name": "stdout",
     "output_type": "stream",
     "text": [
      "846af57b-721e-4802-8af5-6c55fb23d969\n",
      "846af57b-721e-4802-8af5-6c55fb23d969\n",
      "FROM DATASET [28.8 49.9]\n",
      "actual 0.24000000000000002 0.62375\n",
      "predicted 0.19778398 0.59824574\n",
      "start location [19.7, 47.9]\n",
      "actual action Carry\n"
     ]
    },
    {
     "name": "stderr",
     "output_type": "stream",
     "text": [
      "10it [01:15,  6.82s/it]"
     ]
    },
    {
     "name": "stdout",
     "output_type": "stream",
     "text": [
      "5ddc5023-88c9-4971-b694-b51cc9f33b18\n",
      "5ddc5023-88c9-4971-b694-b51cc9f33b18\n",
      "FROM DATASET [31.8 23.3]\n",
      "actual 0.265 0.29125\n",
      "predicted 0.24322821 0.55349845\n",
      "start location [28.8, 49.9]\n",
      "actual action Pass\n"
     ]
    },
    {
     "name": "stderr",
     "output_type": "stream",
     "text": [
      "11it [01:25,  7.52s/it]"
     ]
    },
    {
     "name": "stdout",
     "output_type": "stream",
     "text": [
      "3150a747-b5e2-4805-9aac-122ce6e6b684\n",
      "3150a747-b5e2-4805-9aac-122ce6e6b684\n",
      "FROM DATASET [37.9 20.2]\n",
      "actual 0.3158333333333333 0.2525\n",
      "predicted 0.26072434 0.2615301\n",
      "start location [31.8, 23.3]\n",
      "actual action Carry\n"
     ]
    },
    {
     "name": "stderr",
     "output_type": "stream",
     "text": [
      "12it [01:32,  7.55s/it]"
     ]
    },
    {
     "name": "stdout",
     "output_type": "stream",
     "text": [
      "f1760b14-9c4f-4c0e-91f3-53b71b0f9ce2\n",
      "f1760b14-9c4f-4c0e-91f3-53b71b0f9ce2\n",
      "FROM DATASET [34.5 40. ]\n",
      "actual 0.2875 0.5\n",
      "predicted 0.33251017 0.28975877\n",
      "start location [37.9, 20.2]\n",
      "actual action Pass\n"
     ]
    },
    {
     "name": "stderr",
     "output_type": "stream",
     "text": [
      "13it [01:46,  9.50s/it]"
     ]
    },
    {
     "name": "stdout",
     "output_type": "stream",
     "text": [
      "95fe72d2-6c2e-44d3-96c2-baa8a5a1bd57\n",
      "95fe72d2-6c2e-44d3-96c2-baa8a5a1bd57\n",
      "FROM DATASET [34.7 40.3]\n",
      "actual 0.2891666666666667 0.5037499999999999\n",
      "predicted 0.28744718 0.46013525\n",
      "start location [34.5, 40.0]\n",
      "actual action Carry\n"
     ]
    },
    {
     "name": "stderr",
     "output_type": "stream",
     "text": [
      "14it [01:48,  7.15s/it]"
     ]
    },
    {
     "name": "stdout",
     "output_type": "stream",
     "text": [
      "6ef03094-6049-4a4a-b373-b61b93c3aa3f\n",
      "6ef03094-6049-4a4a-b373-b61b93c3aa3f\n",
      "FROM DATASET [44.6 16.5]\n",
      "actual 0.3716666666666667 0.20625\n",
      "predicted 0.33277524 0.48030415\n",
      "start location [34.7, 40.3]\n",
      "actual action Pass\n"
     ]
    },
    {
     "name": "stderr",
     "output_type": "stream",
     "text": [
      "15it [01:52,  6.21s/it]"
     ]
    },
    {
     "name": "stdout",
     "output_type": "stream",
     "text": [
      "e17c7ba8-670b-4b9e-b652-1e9286ca2923\n",
      "e17c7ba8-670b-4b9e-b652-1e9286ca2923\n",
      "FROM DATASET [47.9 10.5]\n",
      "actual 0.39916666666666667 0.13125\n",
      "predicted 0.37903813 0.18050578\n",
      "start location [44.6, 16.5]\n",
      "actual action Carry\n"
     ]
    },
    {
     "name": "stderr",
     "output_type": "stream",
     "text": [
      "16it [01:56,  5.40s/it]"
     ]
    },
    {
     "name": "stdout",
     "output_type": "stream",
     "text": [
      "fe460a80-f49d-4e22-9745-9b4dc448cd83\n",
      "fe460a80-f49d-4e22-9745-9b4dc448cd83\n",
      "FROM DATASET [99.8 15.1]\n",
      "actual 0.8316666666666667 0.18875\n",
      "predicted 0.3952394 0.16294996\n",
      "start location [47.9, 10.5]\n",
      "actual action Pass\n"
     ]
    },
    {
     "name": "stderr",
     "output_type": "stream",
     "text": [
      "17it [01:59,  4.79s/it]"
     ]
    },
    {
     "name": "stdout",
     "output_type": "stream",
     "text": [
      "8dd7ea69-0ab3-40b3-90b3-636b97fdabd8\n",
      "8dd7ea69-0ab3-40b3-90b3-636b97fdabd8\n",
      "FROM DATASET [92.6 12.7]\n",
      "actual 0.7716666666666666 0.15875\n",
      "predicted 0.76222694 0.17201675\n",
      "start location [87.8, 12.2]\n",
      "actual action Pass\n"
     ]
    },
    {
     "name": "stderr",
     "output_type": "stream",
     "text": [
      "18it [02:03,  4.47s/it]"
     ]
    },
    {
     "name": "stdout",
     "output_type": "stream",
     "text": [
      "10d30bc7-5c73-44b2-bec1-181c5ff520d6\n",
      "10d30bc7-5c73-44b2-bec1-181c5ff520d6\n",
      "FROM DATASET [91.6 14.4]\n",
      "actual 0.7633333333333333 0.18\n",
      "predicted 0.7725091 0.15358408\n",
      "start location [92.6, 12.7]\n",
      "actual action Carry\n"
     ]
    },
    {
     "name": "stderr",
     "output_type": "stream",
     "text": [
      "19it [02:04,  3.63s/it]"
     ]
    },
    {
     "name": "stdout",
     "output_type": "stream",
     "text": [
      "b3b47c74-acf5-4617-8b3a-48338d3fd00e\n",
      "b3b47c74-acf5-4617-8b3a-48338d3fd00e\n",
      "FROM DATASET [29.9 67.6]\n",
      "actual 0.24916666666666665 0.845\n",
      "predicted 0.16147338 0.88338166\n",
      "start location [30.1, 69.3]\n",
      "actual action Carry\n"
     ]
    },
    {
     "name": "stderr",
     "output_type": "stream",
     "text": [
      "20it [02:09,  3.91s/it]"
     ]
    },
    {
     "name": "stdout",
     "output_type": "stream",
     "text": [
      "c26388b6-2c71-4d08-87e8-6cfd835dbf7d\n",
      "c26388b6-2c71-4d08-87e8-6cfd835dbf7d\n",
      "FROM DATASET [24.4 67.9]\n",
      "actual 0.2033333333333333 0.8487500000000001\n",
      "predicted 0.14044552 0.88814294\n",
      "start location [29.9, 67.6]\n",
      "actual action Pass\n"
     ]
    },
    {
     "name": "stderr",
     "output_type": "stream",
     "text": [
      "21it [02:10,  3.22s/it]"
     ]
    },
    {
     "name": "stdout",
     "output_type": "stream",
     "text": [
      "8d74ec13-028c-4ab8-8f47-fbb9c57af2eb\n",
      "8d74ec13-028c-4ab8-8f47-fbb9c57af2eb\n",
      "FROM DATASET [23.7 69.1]\n",
      "actual 0.19749999999999998 0.8637499999999999\n",
      "predicted 0.14680006 0.83049303\n",
      "start location [24.4, 67.9]\n",
      "actual action Carry\n"
     ]
    },
    {
     "name": "stderr",
     "output_type": "stream",
     "text": [
      "22it [02:12,  2.83s/it]"
     ]
    },
    {
     "name": "stdout",
     "output_type": "stream",
     "text": [
      "589f3d54-f75b-42bf-a2fb-cb826c683b92\n",
      "589f3d54-f75b-42bf-a2fb-cb826c683b92\n",
      "FROM DATASET [25.1 61.2]\n",
      "actual 0.20916666666666667 0.765\n",
      "predicted 0.13869189 0.82664645\n",
      "start location [23.7, 69.1]\n",
      "actual action Pass\n"
     ]
    },
    {
     "name": "stderr",
     "output_type": "stream",
     "text": [
      "23it [02:21,  4.48s/it]"
     ]
    },
    {
     "name": "stdout",
     "output_type": "stream",
     "text": [
      "233c2310-e155-4a84-884e-f9c00aa207c8\n",
      "233c2310-e155-4a84-884e-f9c00aa207c8\n",
      "FROM DATASET [25.4 60.4]\n",
      "actual 0.21166666666666664 0.755\n",
      "predicted 0.1432306 0.78800124\n",
      "start location [25.1, 61.2]\n",
      "actual action Carry\n"
     ]
    },
    {
     "name": "stderr",
     "output_type": "stream",
     "text": [
      "24it [02:23,  3.71s/it]"
     ]
    },
    {
     "name": "stdout",
     "output_type": "stream",
     "text": [
      "a343d134-767e-4728-816a-e07bf140c7da\n",
      "a343d134-767e-4728-816a-e07bf140c7da\n",
      "FROM DATASET [38.5 74.1]\n",
      "actual 0.32083333333333336 0.9262499999999999\n",
      "predicted 0.14637318 0.7724395\n",
      "start location [25.4, 60.4]\n",
      "actual action Pass\n"
     ]
    },
    {
     "name": "stderr",
     "output_type": "stream",
     "text": [
      "25it [02:25,  3.39s/it]"
     ]
    },
    {
     "name": "stdout",
     "output_type": "stream",
     "text": [
      "cd12db99-3569-4124-a81e-156b91eb97e5\n",
      "cd12db99-3569-4124-a81e-156b91eb97e5\n",
      "FROM DATASET [41.7 76. ]\n",
      "actual 0.34750000000000003 0.95\n",
      "predicted 0.30369842 0.77130353\n",
      "start location [38.5, 74.1]\n",
      "actual action Carry\n"
     ]
    },
    {
     "name": "stderr",
     "output_type": "stream",
     "text": [
      "26it [02:27,  2.75s/it]"
     ]
    },
    {
     "name": "stdout",
     "output_type": "stream",
     "text": [
      "88922e0f-48b1-4d88-a94e-71567bec281c\n",
      "88922e0f-48b1-4d88-a94e-71567bec281c\n",
      "FROM DATASET [45.7 76. ]\n",
      "actual 0.38083333333333336 0.95\n",
      "predicted 0.32021716 0.8440294\n",
      "start location [41.7, 76.0]\n",
      "actual action Pass\n"
     ]
    },
    {
     "name": "stderr",
     "output_type": "stream",
     "text": [
      "27it [02:28,  2.31s/it]"
     ]
    },
    {
     "name": "stdout",
     "output_type": "stream",
     "text": [
      "6ed19dd9-2684-4556-b2a5-c4be7d2048b9\n",
      "6ed19dd9-2684-4556-b2a5-c4be7d2048b9\n",
      "FROM DATASET [15.3 40.1]\n",
      "actual 0.1275 0.50125\n",
      "predicted 0.32251072 0.71873707\n",
      "start location [37.5, 64.1]\n",
      "actual action Pass\n"
     ]
    },
    {
     "name": "stderr",
     "output_type": "stream",
     "text": [
      "28it [02:33,  3.32s/it]"
     ]
    },
    {
     "name": "stdout",
     "output_type": "stream",
     "text": [
      "0fa4b858-38bc-4e06-9d3c-0f06d4d0ced6\n",
      "0fa4b858-38bc-4e06-9d3c-0f06d4d0ced6\n",
      "FROM DATASET [15.6 41.2]\n",
      "actual 0.13 0.515\n",
      "predicted 0.17696173 0.504909\n",
      "start location [15.3, 40.1]\n",
      "actual action Carry\n"
     ]
    },
    {
     "name": "stderr",
     "output_type": "stream",
     "text": [
      "28it [02:34,  5.52s/it]\n"
     ]
    },
    {
     "data": {
      "text/plain": [
       "<Figure size 432x288 with 0 Axes>"
      ]
     },
     "metadata": {},
     "output_type": "display_data"
    }
   ],
   "source": [
    "if 'observations' not in locals():\n",
    "\n",
    "    ds = CreateDataset()\n",
    "    ds.loadTrackingContentFromDir('three-sixty/*.json')\n",
    "    ds.file_limit = 1\n",
    "    ds.loadFilesFromDir('events/*.json', filterGamesWithoutTrackingData=True)\n",
    "    observations, actions, rewards, event_ids, terminals = ds.createImageDataset()\n",
    "\n",
    "    answers = {}\n",
    "    players = {}\n",
    "\n",
    "# observations = _split[0]\n",
    "# actions = _split[1]\n",
    "\n",
    "for i, situation in tqdm(enumerate(observations[0:-1])):\n",
    "\n",
    "    action_taken = actions[i]\n",
    "    actual_x, actual_y = action_taken[4], action_taken[5]\n",
    "\n",
    "    predictions = plas.predict([situation])\n",
    "\n",
    "    first_four = predictions[0][:4]\n",
    "\n",
    "    # perform softmax activation on first_four\n",
    "    first_four = np.exp(first_four)/np.sum(np.exp(first_four))\n",
    "\n",
    "    # find which index has the largest value\n",
    "    max_index = np.argmax(first_four)\n",
    "    \n",
    "    # if the max index is a shot\n",
    "    # if(max_index != ds.SHOOT):\n",
    "    #     continue\n",
    "    # else:\n",
    "    #     print(\"it predicted a shot\")\n",
    "\n",
    "\n",
    "    t = {'id':event_ids[i]}\n",
    "    print(event_ids[i])\n",
    "    index = ds.get_index_of_event(t)\n",
    "\n",
    "    e = ds.events[index]\n",
    "    print(e['id'])\n",
    "\n",
    "    # get last 2 indices of array\n",
    "\n",
    "    pred_x, pred_y = predictions[0][4], predictions[0][5]\n",
    "\n",
    "    e_l = np.array(e[e['type']['name'].lower()]['end_location'] )\n",
    "    # e_l = e_l*2\n",
    "\n",
    "    print(\"FROM DATASET\", e_l)\n",
    "    print(\"actual\", actual_x, actual_y)\n",
    "    print(\"predicted\", pred_x, pred_y)\n",
    "    print(\"start location\", e['location'])\n",
    "    print(\"actual action\", e['type']['name'])\n",
    "\n",
    "    # convert situation[0] to rgb\n",
    "    new_image = cv2.cvtColor(situation[0], cv2.COLOR_BGR2RGB)\n",
    "    \n",
    "    # draw red circle at actual location\n",
    "    cv2.circle(new_image, (int(actual_x * 120), int(actual_y*80)), 5, (255, 0, 0), 1)\n",
    "    cv2.circle(new_image, (int(pred_x * 120), int(pred_y*80)), 5, (0, 0, 255), 1)\n",
    "    \n",
    "    # double the size of the new_image\n",
    "    large = cv2.resize(new_image, (0, 0), fx=2, fy=2)\n",
    "\n",
    "    # double the size of situation 2\n",
    "    large2 = cv2.resize(situation[1], (0, 0), fx=2, fy=2)\n",
    "    \n",
    "    # double the size of situation 3\n",
    "    large3 = cv2.resize(situation[2], (0, 0), fx=2, fy=2)\n",
    "\n",
    "    legend = np.zeros(large.shape, large.dtype)\n",
    "    \n",
    "    c1 = (255,0,0)\n",
    "    c2 = (0,0,255)\n",
    "\n",
    "    # draw rectangle on legend\n",
    "    cv2.rectangle(legend, (20, 20), (40, 40), c1, -1)\n",
    "    cv2.rectangle(legend, (20, 60), (40, 80), c2, -1)\n",
    "\n",
    "    # write text at 30,30 saying \"TEAM MATES\" on legend\n",
    "    cv2.putText(legend, \"ACTUAL\", (50, 30), cv2.FONT_HERSHEY_SIMPLEX, 0.5, (255, 255, 255), 1)\n",
    "    cv2.putText(legend, \"PREDICTED\", (50, 70), cv2.FONT_HERSHEY_SIMPLEX, 0.5, (255, 255, 255), 1)\n",
    "\n",
    "    cv2.imshow(\"actor\", large)\n",
    "    cv2.imshow(\"team_mates\", large2)\n",
    "    cv2.imshow(\"opponents\", large3)\n",
    "    cv2.imshow(\"legend\", legend)\n",
    "\n",
    "    # extract the first 4 elements of the predicted array\n",
    "    first_four = predictions[0][:4]\n",
    "\n",
    "    # perform softmax activation on first_four\n",
    "    first_four = np.exp(first_four)/np.sum(np.exp(first_four))\n",
    "\n",
    "    # find which index has the largest value\n",
    "    max_index = np.argmax(first_four)\n",
    "    \n",
    "    # plot a bar chart of first_four and save it as a png\n",
    "    # make plt figsize bigger\n",
    "    # plt.figure(figsize=(5,5))\n",
    "    plt.bar([ds.ID_to_str[i] for i in range(len(first_four))], first_four)\n",
    "\n",
    "    plt.savefig('bar_chart.png', dpi=300)\n",
    "\n",
    "    # clear the figure\n",
    "    plt.clf()\n",
    "\n",
    "    # imshow barchat\n",
    "    loaded = cv2.imread('bar_chart.png')\n",
    "\n",
    "    # resize loaded to have the twice the dimensions as large\n",
    "    loaded = cv2.resize(loaded, (large.shape[1] * 2, large.shape[0] * 2))\n",
    "    cv2.imshow(\"bar charts\", loaded )\n",
    "\n",
    "\n",
    "    if cv2.waitKey(0) & 0xFF == ord('q'):\n",
    "        cv2.destroyAllWindows()\n",
    "        break\n",
    "    else:\n",
    "        cv2.destroyAllWindows()\n",
    "    \n",
    "    # break\n",
    "    # break\n",
    "\n",
    "    # break\n",
    "    \n",
    "    # if(p == \"shot\"):\n",
    "    #     print(event_ids[i])\n",
    "    #     print([ds.getPlayerFromActionID(event) for event in event_ids[i]])\n",
    "    # event = ds.getActionFromID(event_ids[i][-2])\n",
    "    "
   ]
  },
  {
   "cell_type": "code",
   "execution_count": 4,
   "metadata": {},
   "outputs": [
    {
     "name": "stdout",
     "output_type": "stream",
     "text": [
      "['', '', '', '']\n",
      "pass , 0\n",
      "shot , 1\n",
      "carry , 2\n",
      "clearance , 3\n",
      "['pass', 'shot', 'carry', 'clearance', 'zone_0', 'zone_1']\n"
     ]
    }
   ],
   "source": [
    "import pandas as pd\n",
    "from create_dataset import CreateDataset\n",
    "\n",
    "ds = CreateDataset()\n",
    "act = _split[1]\n",
    "act.shape\n",
    "# self.good_events = {\n",
    "            \n",
    "#             'pass': self.PASS,\n",
    "#             'shot': self.SHOOT,\n",
    "#             'carry':self.CARRY,\n",
    "#             'clearance':self.CLEAR,\n",
    "#             # 'foul won': self.FOUL,\n",
    "#             # 'foul': self.FOUL,\n",
    "\n",
    "#         }\n",
    "labels = [ \"\" for i in range(len(ds.good_events)) ]\n",
    "\n",
    "print(labels)\n",
    "\n",
    "labels.append(\"zone_0\")\n",
    "labels.append(\"zone_1\")\n",
    "\n",
    "for key, value in ds.good_events.items():\n",
    "    print(key,\",\",value)\n",
    "    labels[value] = key\n",
    "\n",
    "\n",
    "print(labels)\n",
    "\n",
    "\n",
    "act_df = pd.DataFrame(act, columns=labels)"
   ]
  },
  {
   "cell_type": "code",
   "execution_count": 7,
   "metadata": {},
   "outputs": [
    {
     "data": {
      "text/html": [
       "<div>\n",
       "<style scoped>\n",
       "    .dataframe tbody tr th:only-of-type {\n",
       "        vertical-align: middle;\n",
       "    }\n",
       "\n",
       "    .dataframe tbody tr th {\n",
       "        vertical-align: top;\n",
       "    }\n",
       "\n",
       "    .dataframe thead th {\n",
       "        text-align: right;\n",
       "    }\n",
       "</style>\n",
       "<table border=\"1\" class=\"dataframe\">\n",
       "  <thead>\n",
       "    <tr style=\"text-align: right;\">\n",
       "      <th></th>\n",
       "      <th>pass</th>\n",
       "      <th>shot</th>\n",
       "      <th>carry</th>\n",
       "      <th>clearance</th>\n",
       "      <th>zone_0</th>\n",
       "      <th>zone_1</th>\n",
       "    </tr>\n",
       "  </thead>\n",
       "  <tbody>\n",
       "    <tr>\n",
       "      <th>count</th>\n",
       "      <td>1821.000000</td>\n",
       "      <td>1821.000000</td>\n",
       "      <td>1821.000000</td>\n",
       "      <td>1821.000000</td>\n",
       "      <td>1821.000000</td>\n",
       "      <td>1821.000000</td>\n",
       "    </tr>\n",
       "    <tr>\n",
       "      <th>mean</th>\n",
       "      <td>0.513454</td>\n",
       "      <td>0.014278</td>\n",
       "      <td>0.451400</td>\n",
       "      <td>0.020868</td>\n",
       "      <td>0.362548</td>\n",
       "      <td>0.653396</td>\n",
       "    </tr>\n",
       "    <tr>\n",
       "      <th>std</th>\n",
       "      <td>0.499956</td>\n",
       "      <td>0.118667</td>\n",
       "      <td>0.497769</td>\n",
       "      <td>0.142980</td>\n",
       "      <td>0.229914</td>\n",
       "      <td>0.330920</td>\n",
       "    </tr>\n",
       "    <tr>\n",
       "      <th>min</th>\n",
       "      <td>0.000000</td>\n",
       "      <td>0.000000</td>\n",
       "      <td>0.000000</td>\n",
       "      <td>0.000000</td>\n",
       "      <td>0.000000</td>\n",
       "      <td>0.000000</td>\n",
       "    </tr>\n",
       "    <tr>\n",
       "      <th>25%</th>\n",
       "      <td>0.000000</td>\n",
       "      <td>0.000000</td>\n",
       "      <td>0.000000</td>\n",
       "      <td>0.000000</td>\n",
       "      <td>0.200000</td>\n",
       "      <td>0.416667</td>\n",
       "    </tr>\n",
       "    <tr>\n",
       "      <th>50%</th>\n",
       "      <td>1.000000</td>\n",
       "      <td>0.000000</td>\n",
       "      <td>0.000000</td>\n",
       "      <td>0.000000</td>\n",
       "      <td>0.333333</td>\n",
       "      <td>0.666667</td>\n",
       "    </tr>\n",
       "    <tr>\n",
       "      <th>75%</th>\n",
       "      <td>1.000000</td>\n",
       "      <td>0.000000</td>\n",
       "      <td>1.000000</td>\n",
       "      <td>0.000000</td>\n",
       "      <td>0.533333</td>\n",
       "      <td>0.916667</td>\n",
       "    </tr>\n",
       "    <tr>\n",
       "      <th>max</th>\n",
       "      <td>1.000000</td>\n",
       "      <td>1.000000</td>\n",
       "      <td>1.000000</td>\n",
       "      <td>1.000000</td>\n",
       "      <td>0.733333</td>\n",
       "      <td>1.250000</td>\n",
       "    </tr>\n",
       "  </tbody>\n",
       "</table>\n",
       "</div>"
      ],
      "text/plain": [
       "              pass         shot        carry    clearance       zone_0  \\\n",
       "count  1821.000000  1821.000000  1821.000000  1821.000000  1821.000000   \n",
       "mean      0.513454     0.014278     0.451400     0.020868     0.362548   \n",
       "std       0.499956     0.118667     0.497769     0.142980     0.229914   \n",
       "min       0.000000     0.000000     0.000000     0.000000     0.000000   \n",
       "25%       0.000000     0.000000     0.000000     0.000000     0.200000   \n",
       "50%       1.000000     0.000000     0.000000     0.000000     0.333333   \n",
       "75%       1.000000     0.000000     1.000000     0.000000     0.533333   \n",
       "max       1.000000     1.000000     1.000000     1.000000     0.733333   \n",
       "\n",
       "            zone_1  \n",
       "count  1821.000000  \n",
       "mean      0.653396  \n",
       "std       0.330920  \n",
       "min       0.000000  \n",
       "25%       0.416667  \n",
       "50%       0.666667  \n",
       "75%       0.916667  \n",
       "max       1.250000  "
      ]
     },
     "execution_count": 7,
     "metadata": {},
     "output_type": "execute_result"
    }
   ],
   "source": [
    "act_df.describe()"
   ]
  },
  {
   "cell_type": "code",
   "execution_count": 5,
   "metadata": {},
   "outputs": [
    {
     "data": {
      "text/plain": [
       "<AxesSubplot:>"
      ]
     },
     "execution_count": 5,
     "metadata": {},
     "output_type": "execute_result"
    },
    {
     "data": {
      "image/png": "[encoded data removed]",
      "text/plain": [
       "<Figure size 432x288 with 1 Axes>"
      ]
     },
     "metadata": {
      "needs_background": "light"
     },
     "output_type": "display_data"
    }
   ],
   "source": [
    "# bar chart of counts of first 4 columns in act_df\n",
    "act_df.iloc[:].sum().plot.bar()"
   ]
  },
  {
   "cell_type": "code",
   "execution_count": 9,
   "metadata": {},
   "outputs": [
    {
     "data": {
      "text/plain": [
       "<AxesSubplot:>"
      ]
     },
     "execution_count": 9,
     "metadata": {},
     "output_type": "execute_result"
    },
    {
     "data": {
      "image/png": "[encoded data removed]",
      "text/plain": [
       "<Figure size 432x288 with 1 Axes>"
      ]
     },
     "metadata": {
      "needs_background": "light"
     },
     "output_type": "display_data"
    }
   ],
   "source": [
    "# boxplot of the last 2 columns of act_df\n",
    "act_df.iloc[:].plot.box()"
   ]
  },
  {
   "cell_type": "code",
   "execution_count": null,
   "metadata": {},
   "outputs": [],
   "source": []
  }
 ],
 "metadata": {
  "interpreter": {
   "hash": "2db524e06e9f5f4ffedc911c917cb75e12dbc923643829bf417064a77eb14d37"
  },
  "kernelspec": {
   "display_name": "Python 3.8.3 64-bit",
   "language": "python",
   "name": "python3"
  },
  "language_info": {
   "codemirror_mode": {
    "name": "ipython",
    "version": 3
   },
   "file_extension": ".py",
   "mimetype": "text/x-python",
   "name": "python",
   "nbconvert_exporter": "python",
   "pygments_lexer": "ipython3",
   "version": "3.8.3"
  },
  "orig_nbformat": 4
 },
 "nbformat": 4,
 "nbformat_minor": 2
}
