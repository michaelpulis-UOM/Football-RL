{
 "cells": [
  {
   "cell_type": "code",
   "execution_count": 51,
   "metadata": {},
   "outputs": [],
   "source": [
    "from gym import Env\n",
    "from gym.spaces import Discrete, Box, Tuple\n",
    "from random import random\n",
    "import numpy as np\n",
    "from create_dataset import CreateDataset"
   ]
  },
  {
   "cell_type": "code",
   "execution_count": 52,
   "metadata": {},
   "outputs": [],
   "source": [
    "# Building a custom environment\n",
    "class FootballEnv(Env):\n",
    "    def __init__(self):\n",
    "        self.dataset = CreateDataset()\n",
    "\n",
    "        self.sequence_length = 5\n",
    "        self.steps_left = self.sequence_length\n",
    "\n",
    "        # The amount of actions that a player can take\n",
    "        self.action_size = len(self.dataset.good_events)\n",
    "\n",
    "        # The currect action being taken\n",
    "        self.state = None\n",
    "\n",
    "        # The possible action space ( A discrete action )\n",
    "        self.action_space = Discrete(self.action_size)\n",
    "\n",
    "        # The observation ( The last 5 actions )\n",
    "        self.observation_space = np.array(\n",
    "            Tuple((\n",
    "                Discrete(self.action_size),\n",
    "                Discrete(self.action_size),\n",
    "                Discrete(self.action_size),\n",
    "                Discrete(self.action_size),\n",
    "                Discrete(self.action_size))\n",
    "            )\n",
    "        )\n",
    "        # self.observation_space = Box(low=np.array([0,0]), high=np.array([1,1]))\n",
    "\n",
    "    def step(self, action):\n",
    "        self.steps_left -= 1\n",
    "        reward = random()\n",
    "        \n",
    "\n",
    "        self.state = np.zeros((self.action_size), dtype=np.float32)\n",
    "        self.state[action] = 1\n",
    "        info = {}\n",
    "        return self.state, reward, self.steps_left == 0, info\n",
    "\n",
    "    def render(self):\n",
    "        \n",
    "\n",
    "        pass\n",
    "\n",
    "    def reset(self):\n",
    "        self.sequence_length = 5\n",
    "        self.steps_left = self.sequence_length\n",
    "        self.state = np.zeros((self.action_size), dtype=np.float32)\n",
    "        return self.state"
   ]
  },
  {
   "cell_type": "code",
   "execution_count": 54,
   "metadata": {},
   "outputs": [
    {
     "name": "stdout",
     "output_type": "stream",
     "text": [
      "INIT!\n",
      "(5,)\n",
      "STEP!\n",
      "4\n",
      "RESET!\n"
     ]
    },
    {
     "data": {
      "text/plain": [
       "array([0., 0., 0., 0., 0.], dtype=float32)"
      ]
     },
     "execution_count": 54,
     "metadata": {},
     "output_type": "execute_result"
    }
   ],
   "source": [
    "# env = FootballEnv()\n",
    "# print(env.observation_space.shape)\n",
    "# env.step(1)\n",
    "# env.reset()"
   ]
  }
 ],
 "metadata": {
  "interpreter": {
   "hash": "2db524e06e9f5f4ffedc911c917cb75e12dbc923643829bf417064a77eb14d37"
  },
  "kernelspec": {
   "display_name": "Python 3.8.3 64-bit",
   "language": "python",
   "name": "python3"
  },
  "language_info": {
   "codemirror_mode": {
    "name": "ipython",
    "version": 3
   },
   "file_extension": ".py",
   "mimetype": "text/x-python",
   "name": "python",
   "nbconvert_exporter": "python",
   "pygments_lexer": "ipython3",
   "version": "3.8.3"
  },
  "orig_nbformat": 4
 },
 "nbformat": 4,
 "nbformat_minor": 2
}
