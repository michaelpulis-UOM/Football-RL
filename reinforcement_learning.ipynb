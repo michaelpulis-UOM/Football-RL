{
 "cells": [
  {
   "cell_type": "markdown",
   "metadata": {},
   "source": [
    "Import the required libraries"
   ]
  },
  {
   "cell_type": "code",
   "execution_count": 1,
   "metadata": {},
   "outputs": [
    {
     "name": "stdout",
     "output_type": "stream",
     "text": [
      "importing Jupyter notebook from FootballEnv.ipynb\n"
     ]
    }
   ],
   "source": [
    "from d3rlpy.datasets import get_cartpole\n",
    "from d3rlpy.algos import DiscreteCQL, DQN\n",
    "from d3rlpy.metrics.scorer import discounted_sum_of_advantage_scorer\n",
    "from d3rlpy.metrics.scorer import evaluate_on_environment\n",
    "from d3rlpy.dataset import Episode\n",
    "from d3rlpy.ope import DiscreteFQE\n",
    "from d3rlpy.dataset import MDPDataset\n",
    "\n",
    "from d3rlpy.metrics.scorer import td_error_scorer\n",
    "from d3rlpy.metrics.scorer import average_value_estimation_scorer\n",
    "from sklearn.model_selection import train_test_split\n",
    "\n",
    "import import_ipynb\n",
    "import numpy as np\n",
    "from random import random\n",
    "from create_dataset import CreateDataset\n",
    "from FootballEnv import FootballEnv\n",
    "\n",
    "from view import Visualiser\n",
    "\n",
    "# metrics to evaluate with\n",
    "from d3rlpy.metrics.scorer import initial_state_value_estimation_scorer\n",
    "from d3rlpy.metrics.scorer import soft_opc_scorer\n"
   ]
  },
  {
   "cell_type": "markdown",
   "metadata": {},
   "source": [
    "Helper function to create a dummy dataset"
   ]
  },
  {
   "cell_type": "code",
   "execution_count": 3,
   "metadata": {},
   "outputs": [],
   "source": [
    "def create_dataset():\n",
    "\n",
    "    dataset_maker = CreateDataset()\n",
    "    # dataset_maker.loadFile('data.json')\n",
    "    dataset_maker.loadFilesFromDir('events/*.json')\n",
    "    observations, actions, rewards = dataset_maker.createEpisodeDataset()\n",
    "    terminals = np.array([ 0 if (i+1) % dataset_maker.lim == 0 else 1 for i in range(len(actions)) ])\n",
    "    return MDPDataset(\n",
    "        observations,\n",
    "        actions,\n",
    "        rewards, \n",
    "        terminals,\n",
    "    ), observations"
   ]
  },
  {
   "cell_type": "code",
   "execution_count": 4,
   "metadata": {},
   "outputs": [],
   "source": [
    "dataset, observations = create_dataset()\n",
    "train_episodes, test_episodes = train_test_split(dataset, test_size=0.2, shuffle=False)\n"
   ]
  },
  {
   "cell_type": "code",
   "execution_count": 5,
   "metadata": {},
   "outputs": [
    {
     "data": {
      "text/plain": [
       "189371"
      ]
     },
     "execution_count": 5,
     "metadata": {},
     "output_type": "execute_result"
    }
   ],
   "source": [
    "len(train_episodes)"
   ]
  },
  {
   "cell_type": "code",
   "execution_count": 6,
   "metadata": {},
   "outputs": [
    {
     "name": "stdout",
     "output_type": "stream",
     "text": [
      "2022-02-10 22:35.10 [debug    ] RoundIterator is selected.\n",
      "2022-02-10 22:35.10 [info     ] Directory is created at d3rlpy_logs\\DiscreteCQL_20220210223510\n",
      "2022-02-10 22:35.10 [debug    ] Building models...\n",
      "2022-02-10 22:35.10 [debug    ] Models have been built.\n",
      "2022-02-10 22:35.10 [info     ] Parameters are saved to d3rlpy_logs\\DiscreteCQL_20220210223510\\params.json params={'action_scaler': None, 'alpha': 1.0, 'batch_size': 32, 'encoder_factory': {'type': 'default', 'params': {'activation': 'relu', 'use_batch_norm': False, 'dropout_rate': None}}, 'gamma': 0.99, 'generated_maxlen': 100000, 'learning_rate': 6.25e-05, 'n_critics': 1, 'n_frames': 1, 'n_steps': 1, 'optim_factory': {'optim_cls': 'Adam', 'betas': (0.9, 0.999), 'eps': 1e-08, 'weight_decay': 0, 'amsgrad': False}, 'q_func_factory': {'type': 'mean', 'params': {'bootstrap': False, 'share_encoder': False}}, 'real_ratio': 1.0, 'reward_scaler': None, 'scaler': None, 'target_reduction_type': 'min', 'target_update_interval': 8000, 'use_gpu': None, 'algorithm': 'DiscreteCQL', 'observation_shape': (15,), 'action_size': 4}\n"
     ]
    },
    {
     "name": "stderr",
     "output_type": "stream",
     "text": [
      "Epoch 1/25: 100%|██████████| 1479/1479 [00:16<00:00, 89.31it/s, loss=0.913]"
     ]
    },
    {
     "name": "stdout",
     "output_type": "stream",
     "text": [
      "2022-02-10 22:35.27 [info     ] DiscreteCQL_20220210223510: epoch=1 step=1479 epoch=1 metrics={'time_sample_batch': 0.00024837735055506917, 'time_algorithm_update': 0.01050935652386586, 'loss': 0.9124909420727555, 'time_step': 0.011013241213991321} step=1479\n",
      "2022-02-10 22:35.27 [info     ] Model parameters are saved to d3rlpy_logs\\DiscreteCQL_20220210223510\\model_1479.pt\n"
     ]
    },
    {
     "name": "stderr",
     "output_type": "stream",
     "text": [
      "\n",
      "Epoch 2/25: 100%|██████████| 1479/1479 [00:20<00:00, 70.90it/s, loss=0.842]"
     ]
    },
    {
     "name": "stdout",
     "output_type": "stream",
     "text": [
      "2022-02-10 22:35.48 [info     ] DiscreteCQL_20220210223510: epoch=2 step=2958 epoch=2 metrics={'time_sample_batch': 0.00027618608094293415, 'time_algorithm_update': 0.013266327898594235, 'loss': 0.8422214590552048, 'time_step': 0.013844084788045824} step=2958\n",
      "2022-02-10 22:35.48 [info     ] Model parameters are saved to d3rlpy_logs\\DiscreteCQL_20220210223510\\model_2958.pt\n"
     ]
    },
    {
     "name": "stderr",
     "output_type": "stream",
     "text": [
      "\n",
      "Epoch 3/25: 100%|██████████| 1479/1479 [00:22<00:00, 65.43it/s, loss=0.82] "
     ]
    },
    {
     "name": "stdout",
     "output_type": "stream",
     "text": [
      "2022-02-10 22:36.10 [info     ] DiscreteCQL_20220210223510: epoch=3 step=4437 epoch=3 metrics={'time_sample_batch': 0.00030936076078485846, 'time_algorithm_update': 0.014392450421625413, 'loss': 0.8201054230060345, 'time_step': 0.015002262600375802} step=4437\n",
      "2022-02-10 22:36.10 [info     ] Model parameters are saved to d3rlpy_logs\\DiscreteCQL_20220210223510\\model_4437.pt\n"
     ]
    },
    {
     "name": "stderr",
     "output_type": "stream",
     "text": [
      "\n",
      "Epoch 4/25: 100%|██████████| 1479/1479 [00:21<00:00, 68.68it/s, loss=0.806]"
     ]
    },
    {
     "name": "stdout",
     "output_type": "stream",
     "text": [
      "2022-02-10 22:36.32 [info     ] DiscreteCQL_20220210223510: epoch=4 step=5916 epoch=4 metrics={'time_sample_batch': 0.0002975189822843705, 'time_algorithm_update': 0.013697276976239126, 'loss': 0.8060149976415679, 'time_step': 0.01429640851849394} step=5916\n",
      "2022-02-10 22:36.32 [info     ] Model parameters are saved to d3rlpy_logs\\DiscreteCQL_20220210223510\\model_5916.pt\n"
     ]
    },
    {
     "name": "stderr",
     "output_type": "stream",
     "text": [
      "\n",
      "Epoch 5/25: 100%|██████████| 1479/1479 [00:18<00:00, 81.40it/s, loss=0.796]"
     ]
    },
    {
     "name": "stdout",
     "output_type": "stream",
     "text": [
      "2022-02-10 22:36.50 [info     ] DiscreteCQL_20220210223510: epoch=5 step=7395 epoch=5 metrics={'time_sample_batch': 0.0002759013972304978, 'time_algorithm_update': 0.01152301221541894, 'loss': 0.7952425727737844, 'time_step': 0.012071344480069607} step=7395\n",
      "2022-02-10 22:36.50 [info     ] Model parameters are saved to d3rlpy_logs\\DiscreteCQL_20220210223510\\model_7395.pt\n"
     ]
    },
    {
     "name": "stderr",
     "output_type": "stream",
     "text": [
      "\n",
      "Epoch 6/25: 100%|██████████| 1479/1479 [00:19<00:00, 75.19it/s, loss=0.788]"
     ]
    },
    {
     "name": "stdout",
     "output_type": "stream",
     "text": [
      "2022-02-10 22:37.10 [info     ] DiscreteCQL_20220210223510: epoch=6 step=8874 epoch=6 metrics={'time_sample_batch': 0.00027870745010840237, 'time_algorithm_update': 0.012505972038821, 'loss': 0.7879107959009329, 'time_step': 0.013061870506601288} step=8874\n",
      "2022-02-10 22:37.10 [info     ] Model parameters are saved to d3rlpy_logs\\DiscreteCQL_20220210223510\\model_8874.pt\n"
     ]
    },
    {
     "name": "stderr",
     "output_type": "stream",
     "text": [
      "\n",
      "Epoch 7/25: 100%|██████████| 1479/1479 [00:18<00:00, 81.71it/s, loss=0.781] "
     ]
    },
    {
     "name": "stdout",
     "output_type": "stream",
     "text": [
      "2022-02-10 22:37.28 [info     ] DiscreteCQL_20220210223510: epoch=7 step=10353 epoch=7 metrics={'time_sample_batch': 0.0002913686211968371, 'time_algorithm_update': 0.011481201108683598, 'loss': 0.7809068537628917, 'time_step': 0.01203758705299073} step=10353\n",
      "2022-02-10 22:37.28 [info     ] Model parameters are saved to d3rlpy_logs\\DiscreteCQL_20220210223510\\model_10353.pt\n"
     ]
    },
    {
     "name": "stderr",
     "output_type": "stream",
     "text": [
      "\n",
      "Epoch 8/25: 100%|██████████| 1479/1479 [00:17<00:00, 82.71it/s, loss=0.774]"
     ]
    },
    {
     "name": "stdout",
     "output_type": "stream",
     "text": [
      "2022-02-10 22:37.46 [info     ] DiscreteCQL_20220210223510: epoch=8 step=11832 epoch=8 metrics={'time_sample_batch': 0.00026707765296796757, 'time_algorithm_update': 0.011343597962777303, 'loss': 0.7744346448825452, 'time_step': 0.011889575058096884} step=11832\n",
      "2022-02-10 22:37.46 [info     ] Model parameters are saved to d3rlpy_logs\\DiscreteCQL_20220210223510\\model_11832.pt\n"
     ]
    },
    {
     "name": "stderr",
     "output_type": "stream",
     "text": [
      "\n",
      "Epoch 9/25: 100%|██████████| 1479/1479 [00:20<00:00, 72.46it/s, loss=0.771] "
     ]
    },
    {
     "name": "stdout",
     "output_type": "stream",
     "text": [
      "2022-02-10 22:38.06 [info     ] DiscreteCQL_20220210223510: epoch=9 step=13311 epoch=9 metrics={'time_sample_batch': 0.00030150245862526216, 'time_algorithm_update': 0.012971442966061399, 'loss': 0.7705032294106048, 'time_step': 0.013554860483237905} step=13311\n",
      "2022-02-10 22:38.06 [info     ] Model parameters are saved to d3rlpy_logs\\DiscreteCQL_20220210223510\\model_13311.pt\n"
     ]
    },
    {
     "name": "stderr",
     "output_type": "stream",
     "text": [
      "\n",
      "Epoch 10/25: 100%|██████████| 1479/1479 [00:16<00:00, 92.28it/s, loss=0.766] "
     ]
    },
    {
     "name": "stdout",
     "output_type": "stream",
     "text": [
      "2022-02-10 22:38.22 [info     ] DiscreteCQL_20220210223510: epoch=10 step=14790 epoch=10 metrics={'time_sample_batch': 0.00025283427880050526, 'time_algorithm_update': 0.010150696314050186, 'loss': 0.7664786595964529, 'time_step': 0.010650309620071215} step=14790\n",
      "2022-02-10 22:38.22 [info     ] Model parameters are saved to d3rlpy_logs\\DiscreteCQL_20220210223510\\model_14790.pt\n"
     ]
    },
    {
     "name": "stderr",
     "output_type": "stream",
     "text": [
      "\n",
      "Epoch 11/25: 100%|██████████| 1479/1479 [00:18<00:00, 79.54it/s, loss=0.763]"
     ]
    },
    {
     "name": "stdout",
     "output_type": "stream",
     "text": [
      "2022-02-10 22:38.41 [info     ] DiscreteCQL_20220210223510: epoch=11 step=16269 epoch=11 metrics={'time_sample_batch': 0.00026706298353544676, 'time_algorithm_update': 0.011814503189355155, 'loss': 0.762570316320823, 'time_step': 0.012358577288510914} step=16269\n",
      "2022-02-10 22:38.41 [info     ] Model parameters are saved to d3rlpy_logs\\DiscreteCQL_20220210223510\\model_16269.pt\n"
     ]
    },
    {
     "name": "stderr",
     "output_type": "stream",
     "text": [
      "\n",
      "Epoch 12/25: 100%|██████████| 1479/1479 [00:17<00:00, 83.25it/s, loss=0.759] "
     ]
    },
    {
     "name": "stdout",
     "output_type": "stream",
     "text": [
      "2022-02-10 22:38.59 [info     ] DiscreteCQL_20220210223510: epoch=12 step=17748 epoch=12 metrics={'time_sample_batch': 0.00026697238769943926, 'time_algorithm_update': 0.011273074746534903, 'loss': 0.7590705197634449, 'time_step': 0.011806825756462464} step=17748\n",
      "2022-02-10 22:38.59 [info     ] Model parameters are saved to d3rlpy_logs\\DiscreteCQL_20220210223510\\model_17748.pt\n"
     ]
    },
    {
     "name": "stderr",
     "output_type": "stream",
     "text": [
      "\n",
      "Epoch 13/25: 100%|██████████| 1479/1479 [00:17<00:00, 85.65it/s, loss=0.756] "
     ]
    },
    {
     "name": "stdout",
     "output_type": "stream",
     "text": [
      "2022-02-10 22:39.16 [info     ] DiscreteCQL_20220210223510: epoch=13 step=19227 epoch=13 metrics={'time_sample_batch': 0.0002507668560304055, 'time_algorithm_update': 0.010973243152394015, 'loss': 0.7558905270310815, 'time_step': 0.01148477077806536} step=19227\n",
      "2022-02-10 22:39.16 [info     ] Model parameters are saved to d3rlpy_logs\\DiscreteCQL_20220210223510\\model_19227.pt\n"
     ]
    },
    {
     "name": "stderr",
     "output_type": "stream",
     "text": [
      "\n",
      "Epoch 14/25: 100%|██████████| 1479/1479 [00:17<00:00, 85.17it/s, loss=0.753] "
     ]
    },
    {
     "name": "stdout",
     "output_type": "stream",
     "text": [
      "2022-02-10 22:39.33 [info     ] DiscreteCQL_20220210223510: epoch=14 step=20706 epoch=14 metrics={'time_sample_batch': 0.0002663398288729386, 'time_algorithm_update': 0.01100406443613296, 'loss': 0.7528524690983343, 'time_step': 0.011533448468840872} step=20706\n"
     ]
    },
    {
     "name": "stderr",
     "output_type": "stream",
     "text": [
      "\n"
     ]
    },
    {
     "name": "stdout",
     "output_type": "stream",
     "text": [
      "2022-02-10 22:39.33 [info     ] Model parameters are saved to d3rlpy_logs\\DiscreteCQL_20220210223510\\model_20706.pt\n"
     ]
    },
    {
     "name": "stderr",
     "output_type": "stream",
     "text": [
      "Epoch 15/25: 100%|██████████| 1479/1479 [00:17<00:00, 85.41it/s, loss=0.751] "
     ]
    },
    {
     "name": "stdout",
     "output_type": "stream",
     "text": [
      "2022-02-10 22:39.51 [info     ] DiscreteCQL_20220210223510: epoch=15 step=22185 epoch=15 metrics={'time_sample_batch': 0.00026770408609737165, 'time_algorithm_update': 0.010963162511808797, 'loss': 0.7509245917835777, 'time_step': 0.011502663294474283} step=22185\n",
      "2022-02-10 22:39.51 [info     ] Model parameters are saved to d3rlpy_logs\\DiscreteCQL_20220210223510\\model_22185.pt\n"
     ]
    },
    {
     "name": "stderr",
     "output_type": "stream",
     "text": [
      "\n",
      "Epoch 16/25: 100%|██████████| 1479/1479 [00:17<00:00, 85.43it/s, loss=0.749]"
     ]
    },
    {
     "name": "stdout",
     "output_type": "stream",
     "text": [
      "2022-02-10 22:40.08 [info     ] DiscreteCQL_20220210223510: epoch=16 step=23664 epoch=16 metrics={'time_sample_batch': 0.0002706129862054769, 'time_algorithm_update': 0.010953262579287928, 'loss': 0.7488821311686956, 'time_step': 0.011491643810207735} step=23664\n",
      "2022-02-10 22:40.08 [info     ] Model parameters are saved to d3rlpy_logs\\DiscreteCQL_20220210223510\\model_23664.pt\n"
     ]
    },
    {
     "name": "stderr",
     "output_type": "stream",
     "text": [
      "\n",
      "Epoch 17/25: 100%|██████████| 1479/1479 [00:17<00:00, 86.48it/s, loss=0.746] \n"
     ]
    },
    {
     "name": "stdout",
     "output_type": "stream",
     "text": [
      "2022-02-10 22:40.25 [info     ] DiscreteCQL_20220210223510: epoch=17 step=25143 epoch=17 metrics={'time_sample_batch': 0.0002650223203895058, 'time_algorithm_update': 0.01085420763919771, 'loss': 0.7459660753597674, 'time_step': 0.011379512763652067} step=25143\n",
      "2022-02-10 22:40.25 [info     ] Model parameters are saved to d3rlpy_logs\\DiscreteCQL_20220210223510\\model_25143.pt\n"
     ]
    },
    {
     "name": "stderr",
     "output_type": "stream",
     "text": [
      "Epoch 18/25: 100%|██████████| 1479/1479 [00:15<00:00, 93.48it/s, loss=0.743] \n"
     ]
    },
    {
     "name": "stdout",
     "output_type": "stream",
     "text": [
      "2022-02-10 22:40.41 [info     ] DiscreteCQL_20220210223510: epoch=18 step=26622 epoch=18 metrics={'time_sample_batch': 0.0002602974734973714, 'time_algorithm_update': 0.009999189125355069, 'loss': 0.7435592926983257, 'time_step': 0.010508689628895108} step=26622\n",
      "2022-02-10 22:40.41 [info     ] Model parameters are saved to d3rlpy_logs\\DiscreteCQL_20220210223510\\model_26622.pt\n"
     ]
    },
    {
     "name": "stderr",
     "output_type": "stream",
     "text": [
      "Epoch 19/25: 100%|██████████| 1479/1479 [00:16<00:00, 88.72it/s, loss=0.742] "
     ]
    },
    {
     "name": "stdout",
     "output_type": "stream",
     "text": [
      "2022-02-10 22:40.58 [info     ] DiscreteCQL_20220210223510: epoch=19 step=28101 epoch=19 metrics={'time_sample_batch': 0.0002549408737915122, 'time_algorithm_update': 0.010589593806083014, 'loss': 0.7418182923876006, 'time_step': 0.011089981851584206} step=28101\n",
      "2022-02-10 22:40.58 [info     ] Model parameters are saved to d3rlpy_logs\\DiscreteCQL_20220210223510\\model_28101.pt\n"
     ]
    },
    {
     "name": "stderr",
     "output_type": "stream",
     "text": [
      "\n",
      "Epoch 20/25: 100%|██████████| 1479/1479 [00:15<00:00, 93.42it/s, loss=0.74]  \n"
     ]
    },
    {
     "name": "stdout",
     "output_type": "stream",
     "text": [
      "2022-02-10 22:41.13 [info     ] DiscreteCQL_20220210223510: epoch=20 step=29580 epoch=20 metrics={'time_sample_batch': 0.0002366110148504024, 'time_algorithm_update': 0.01003821513554468, 'loss': 0.7397585918445535, 'time_step': 0.010520894919157512} step=29580\n",
      "2022-02-10 22:41.13 [info     ] Model parameters are saved to d3rlpy_logs\\DiscreteCQL_20220210223510\\model_29580.pt\n"
     ]
    },
    {
     "name": "stderr",
     "output_type": "stream",
     "text": [
      "Epoch 21/25: 100%|██████████| 1479/1479 [00:17<00:00, 85.97it/s, loss=0.738] "
     ]
    },
    {
     "name": "stdout",
     "output_type": "stream",
     "text": [
      "2022-02-10 22:41.31 [info     ] DiscreteCQL_20220210223510: epoch=21 step=31059 epoch=21 metrics={'time_sample_batch': 0.00026775502610480647, 'time_algorithm_update': 0.010899668532984736, 'loss': 0.7374060257533823, 'time_step': 0.011431127081375173} step=31059\n",
      "2022-02-10 22:41.31 [info     ] Model parameters are saved to d3rlpy_logs\\DiscreteCQL_20220210223510\\model_31059.pt\n"
     ]
    },
    {
     "name": "stderr",
     "output_type": "stream",
     "text": [
      "\n",
      "Epoch 22/25: 100%|██████████| 1479/1479 [00:16<00:00, 92.02it/s, loss=0.736] "
     ]
    },
    {
     "name": "stdout",
     "output_type": "stream",
     "text": [
      "2022-02-10 22:41.47 [info     ] DiscreteCQL_20220210223510: epoch=22 step=32538 epoch=22 metrics={'time_sample_batch': 0.0002521630313607629, 'time_algorithm_update': 0.010181592234572177, 'loss': 0.7357750963004075, 'time_step': 0.010690739220908721} step=32538\n",
      "2022-02-10 22:41.47 [info     ] Model parameters are saved to d3rlpy_logs\\DiscreteCQL_20220210223510\\model_32538.pt\n"
     ]
    },
    {
     "name": "stderr",
     "output_type": "stream",
     "text": [
      "\n",
      "Epoch 23/25: 100%|██████████| 1479/1479 [00:15<00:00, 97.80it/s, loss=0.734] "
     ]
    },
    {
     "name": "stdout",
     "output_type": "stream",
     "text": [
      "2022-02-10 22:42.02 [info     ] DiscreteCQL_20220210223510: epoch=23 step=34017 epoch=23 metrics={'time_sample_batch': 0.0002417957726324467, 'time_algorithm_update': 0.009567757246057434, 'loss': 0.7336826150364131, 'time_step': 0.010049253641712738} step=34017\n",
      "2022-02-10 22:42.02 [info     ] Model parameters are saved to d3rlpy_logs\\DiscreteCQL_20220210223510\\model_34017.pt\n"
     ]
    },
    {
     "name": "stderr",
     "output_type": "stream",
     "text": [
      "\n",
      "Epoch 24/25: 100%|██████████| 1479/1479 [00:18<00:00, 78.96it/s, loss=0.733]"
     ]
    },
    {
     "name": "stdout",
     "output_type": "stream",
     "text": [
      "2022-02-10 22:42.21 [info     ] DiscreteCQL_20220210223510: epoch=24 step=35496 epoch=24 metrics={'time_sample_batch': 0.0002907247781914743, 'time_algorithm_update': 0.011910193832118903, 'loss': 0.7326045680521629, 'time_step': 0.012458543506645528} step=35496\n",
      "2022-02-10 22:42.21 [info     ] Model parameters are saved to d3rlpy_logs\\DiscreteCQL_20220210223510\\model_35496.pt\n"
     ]
    },
    {
     "name": "stderr",
     "output_type": "stream",
     "text": [
      "\n",
      "Epoch 25/25: 100%|██████████| 1479/1479 [00:19<00:00, 76.73it/s, loss=0.731]"
     ]
    },
    {
     "name": "stdout",
     "output_type": "stream",
     "text": [
      "2022-02-10 22:42.40 [info     ] DiscreteCQL_20220210223510: epoch=25 step=36975 epoch=25 metrics={'time_sample_batch': 0.0002695959592848875, 'time_algorithm_update': 0.012247019800646552, 'loss': 0.7306796889638804, 'time_step': 0.01279920496756842} step=36975\n",
      "2022-02-10 22:42.40 [info     ] Model parameters are saved to d3rlpy_logs\\DiscreteCQL_20220210223510\\model_36975.pt\n"
     ]
    },
    {
     "name": "stderr",
     "output_type": "stream",
     "text": [
      "\n"
     ]
    }
   ],
   "source": [
    "# setup CQL algorithm\n",
    "cql = DiscreteCQL(use_gpu=False, batch_size=32,)\n",
    "\n",
    "# env = FootballEnv(observations)\n",
    "# env.counter = 0\n",
    "\n",
    "# start training\n",
    "output = cql.fit(\n",
    "\n",
    "    train_episodes,\n",
    "    # eval_episodes=test_episodes,\n",
    "    n_epochs=25,\n",
    "    \n",
    "    scorers={\n",
    "        # 'environment': evaluate_on_environment(env), # evaluate with Football Env\n",
    "        'advantage': discounted_sum_of_advantage_scorer, # smaller is better\n",
    "        'td_error': td_error_scorer, # smaller is better\n",
    "        'value_scale': average_value_estimation_scorer # smaller is better\n",
    "    }\n",
    "    \n",
    ")"
   ]
  },
  {
   "cell_type": "code",
   "execution_count": 7,
   "metadata": {},
   "outputs": [
    {
     "data": {
      "text/plain": [
       "[(1,\n",
       "  {'time_sample_batch': 0.0010013580322265625,\n",
       "   'time_algorithm_update': 0.015999555587768555,\n",
       "   'loss': 2.0833652019500732,\n",
       "   'time_step': 0.018000125885009766}),\n",
       " (2,\n",
       "  {'time_sample_batch': 0.0,\n",
       "   'time_algorithm_update': 0.00800013542175293,\n",
       "   'loss': 1.9851281642913818,\n",
       "   'time_step': 0.008998632431030273}),\n",
       " (3,\n",
       "  {'time_sample_batch': 0.0,\n",
       "   'time_algorithm_update': 0.010997533798217773,\n",
       "   'loss': 2.0170738697052,\n",
       "   'time_step': 0.011996984481811523}),\n",
       " (4,\n",
       "  {'time_sample_batch': 0.0009968280792236328,\n",
       "   'time_algorithm_update': 0.004998683929443359,\n",
       "   'loss': 1.900363564491272,\n",
       "   'time_step': 0.007997274398803711}),\n",
       " (5,\n",
       "  {'time_sample_batch': 0.0,\n",
       "   'time_algorithm_update': 0.008998870849609375,\n",
       "   'loss': 1.7809127569198608,\n",
       "   'time_step': 0.009999752044677734}),\n",
       " (6,\n",
       "  {'time_sample_batch': 0.0,\n",
       "   'time_algorithm_update': 0.007996320724487305,\n",
       "   'loss': 1.7211077213287354,\n",
       "   'time_step': 0.009997844696044922}),\n",
       " (7,\n",
       "  {'time_sample_batch': 0.0,\n",
       "   'time_algorithm_update': 0.008999109268188477,\n",
       "   'loss': 1.7183395624160767,\n",
       "   'time_step': 0.00999903678894043}),\n",
       " (8,\n",
       "  {'time_sample_batch': 0.0,\n",
       "   'time_algorithm_update': 0.008002519607543945,\n",
       "   'loss': 1.6579475402832031,\n",
       "   'time_step': 0.009000062942504883}),\n",
       " (9,\n",
       "  {'time_sample_batch': 0.0009999275207519531,\n",
       "   'time_algorithm_update': 0.0659945011138916,\n",
       "   'loss': 1.5854023694992065,\n",
       "   'time_step': 0.06899428367614746}),\n",
       " (10,\n",
       "  {'time_sample_batch': 0.0,\n",
       "   'time_algorithm_update': 0.009997367858886719,\n",
       "   'loss': 1.591988444328308,\n",
       "   'time_step': 0.010994195938110352}),\n",
       " (11,\n",
       "  {'time_sample_batch': 0.0009968280792236328,\n",
       "   'time_algorithm_update': 0.008002042770385742,\n",
       "   'loss': 1.4579076766967773,\n",
       "   'time_step': 0.010997295379638672}),\n",
       " (12,\n",
       "  {'time_sample_batch': 0.0,\n",
       "   'time_algorithm_update': 0.0069997310638427734,\n",
       "   'loss': 1.4433737993240356,\n",
       "   'time_step': 0.007999897003173828}),\n",
       " (13,\n",
       "  {'time_sample_batch': 0.001001119613647461,\n",
       "   'time_algorithm_update': 0.0069997310638427734,\n",
       "   'loss': 1.4083235263824463,\n",
       "   'time_step': 0.00899958610534668}),\n",
       " (14,\n",
       "  {'time_sample_batch': 0.0,\n",
       "   'time_algorithm_update': 0.010997533798217773,\n",
       "   'loss': 1.3634591102600098,\n",
       "   'time_step': 0.011997222900390625}),\n",
       " (15,\n",
       "  {'time_sample_batch': 0.0,\n",
       "   'time_algorithm_update': 0.013000965118408203,\n",
       "   'loss': 1.3687231540679932,\n",
       "   'time_step': 0.014000177383422852}),\n",
       " (16,\n",
       "  {'time_sample_batch': 0.0,\n",
       "   'time_algorithm_update': 0.008001327514648438,\n",
       "   'loss': 1.360061764717102,\n",
       "   'time_step': 0.009000301361083984}),\n",
       " (17,\n",
       "  {'time_sample_batch': 0.0,\n",
       "   'time_algorithm_update': 0.008996963500976562,\n",
       "   'loss': 1.307966709136963,\n",
       "   'time_step': 0.009996891021728516}),\n",
       " (18,\n",
       "  {'time_sample_batch': 0.0,\n",
       "   'time_algorithm_update': 0.01100468635559082,\n",
       "   'loss': 1.298788070678711,\n",
       "   'time_step': 0.013001441955566406}),\n",
       " (19,\n",
       "  {'time_sample_batch': 0.0,\n",
       "   'time_algorithm_update': 0.010999441146850586,\n",
       "   'loss': 1.2876451015472412,\n",
       "   'time_step': 0.013002157211303711}),\n",
       " (20,\n",
       "  {'time_sample_batch': 0.0,\n",
       "   'time_algorithm_update': 0.010001182556152344,\n",
       "   'loss': 1.270782470703125,\n",
       "   'time_step': 0.011998414993286133}),\n",
       " (21,\n",
       "  {'time_sample_batch': 0.0010044574737548828,\n",
       "   'time_algorithm_update': 0.008996725082397461,\n",
       "   'loss': 1.2185423374176025,\n",
       "   'time_step': 0.01200103759765625}),\n",
       " (22,\n",
       "  {'time_sample_batch': 0.0,\n",
       "   'time_algorithm_update': 0.011999130249023438,\n",
       "   'loss': 1.1828391551971436,\n",
       "   'time_step': 0.014000654220581055}),\n",
       " (23,\n",
       "  {'time_sample_batch': 0.0,\n",
       "   'time_algorithm_update': 0.010998725891113281,\n",
       "   'loss': 1.1901195049285889,\n",
       "   'time_step': 0.013000249862670898}),\n",
       " (24,\n",
       "  {'time_sample_batch': 0.0010008811950683594,\n",
       "   'time_algorithm_update': 0.011999845504760742,\n",
       "   'loss': 1.1740251779556274,\n",
       "   'time_step': 0.01500082015991211}),\n",
       " (25,\n",
       "  {'time_sample_batch': 0.0,\n",
       "   'time_algorithm_update': 0.010998249053955078,\n",
       "   'loss': 1.1431454420089722,\n",
       "   'time_step': 0.013000249862670898}),\n",
       " (26,\n",
       "  {'time_sample_batch': 0.0,\n",
       "   'time_algorithm_update': 0.011992216110229492,\n",
       "   'loss': 1.1114834547042847,\n",
       "   'time_step': 0.013993024826049805}),\n",
       " (27,\n",
       "  {'time_sample_batch': 0.0,\n",
       "   'time_algorithm_update': 0.00999760627746582,\n",
       "   'loss': 1.1134939193725586,\n",
       "   'time_step': 0.011996746063232422}),\n",
       " (28,\n",
       "  {'time_sample_batch': 0.0010018348693847656,\n",
       "   'time_algorithm_update': 0.015997648239135742,\n",
       "   'loss': 1.0671467781066895,\n",
       "   'time_step': 0.020000934600830078}),\n",
       " (29,\n",
       "  {'time_sample_batch': 0.0010004043579101562,\n",
       "   'time_algorithm_update': 0.010002613067626953,\n",
       "   'loss': 1.1069649457931519,\n",
       "   'time_step': 0.013001680374145508}),\n",
       " (30,\n",
       "  {'time_sample_batch': 0.0,\n",
       "   'time_algorithm_update': 0.01400303840637207,\n",
       "   'loss': 1.0857515335083008,\n",
       "   'time_step': 0.01700305938720703}),\n",
       " (31,\n",
       "  {'time_sample_batch': 0.0009996891021728516,\n",
       "   'time_algorithm_update': 0.012997865676879883,\n",
       "   'loss': 1.075910210609436,\n",
       "   'time_step': 0.01599860191345215}),\n",
       " (32,\n",
       "  {'time_sample_batch': 0.0,\n",
       "   'time_algorithm_update': 0.011998891830444336,\n",
       "   'loss': 1.0896470546722412,\n",
       "   'time_step': 0.013997077941894531}),\n",
       " (33,\n",
       "  {'time_sample_batch': 0.0,\n",
       "   'time_algorithm_update': 0.015999317169189453,\n",
       "   'loss': 1.0029975175857544,\n",
       "   'time_step': 0.017996788024902344}),\n",
       " (34,\n",
       "  {'time_sample_batch': 0.0009996891021728516,\n",
       "   'time_algorithm_update': 0.01499795913696289,\n",
       "   'loss': 1.0594403743743896,\n",
       "   'time_step': 0.017999887466430664}),\n",
       " (35,\n",
       "  {'time_sample_batch': 0.0009968280792236328,\n",
       "   'time_algorithm_update': 0.012000799179077148,\n",
       "   'loss': 0.9738826751708984,\n",
       "   'time_step': 0.013998746871948242}),\n",
       " (36,\n",
       "  {'time_sample_batch': 0.0,\n",
       "   'time_algorithm_update': 0.018001794815063477,\n",
       "   'loss': 0.9476802945137024,\n",
       "   'time_step': 0.019998550415039062}),\n",
       " (37,\n",
       "  {'time_sample_batch': 0.0,\n",
       "   'time_algorithm_update': 0.013000011444091797,\n",
       "   'loss': 0.9867897629737854,\n",
       "   'time_step': 0.014998435974121094}),\n",
       " (38,\n",
       "  {'time_sample_batch': 0.0,\n",
       "   'time_algorithm_update': 0.012998819351196289,\n",
       "   'loss': 0.9509685039520264,\n",
       "   'time_step': 0.015000343322753906}),\n",
       " (39,\n",
       "  {'time_sample_batch': 0.0,\n",
       "   'time_algorithm_update': 0.010001897811889648,\n",
       "   'loss': 0.9930400252342224,\n",
       "   'time_step': 0.012001514434814453}),\n",
       " (40,\n",
       "  {'time_sample_batch': 0.0,\n",
       "   'time_algorithm_update': 0.012997627258300781,\n",
       "   'loss': 0.9761292934417725,\n",
       "   'time_step': 0.014998912811279297}),\n",
       " (41,\n",
       "  {'time_sample_batch': 0.0009989738464355469,\n",
       "   'time_algorithm_update': 0.011000394821166992,\n",
       "   'loss': 0.9019927978515625,\n",
       "   'time_step': 0.015541315078735352}),\n",
       " (42,\n",
       "  {'time_sample_batch': 0.0,\n",
       "   'time_algorithm_update': 0.015998125076293945,\n",
       "   'loss': 0.9878010153770447,\n",
       "   'time_step': 0.017995834350585938}),\n",
       " (43,\n",
       "  {'time_sample_batch': 0.0009980201721191406,\n",
       "   'time_algorithm_update': 0.012995243072509766,\n",
       "   'loss': 0.9515535831451416,\n",
       "   'time_step': 0.01552271842956543}),\n",
       " (44,\n",
       "  {'time_sample_batch': 0.0,\n",
       "   'time_algorithm_update': 0.01399683952331543,\n",
       "   'loss': 0.9509727954864502,\n",
       "   'time_step': 0.01700115203857422}),\n",
       " (45,\n",
       "  {'time_sample_batch': 0.0,\n",
       "   'time_algorithm_update': 0.01199960708618164,\n",
       "   'loss': 0.8727538585662842,\n",
       "   'time_step': 0.014997482299804688}),\n",
       " (46,\n",
       "  {'time_sample_batch': 0.0,\n",
       "   'time_algorithm_update': 0.012995719909667969,\n",
       "   'loss': 0.9459303021430969,\n",
       "   'time_step': 0.014998912811279297}),\n",
       " (47,\n",
       "  {'time_sample_batch': 0.0,\n",
       "   'time_algorithm_update': 0.010998249053955078,\n",
       "   'loss': 0.9521520137786865,\n",
       "   'time_step': 0.011999130249023438}),\n",
       " (48,\n",
       "  {'time_sample_batch': 0.0009996891021728516,\n",
       "   'time_algorithm_update': 0.011999368667602539,\n",
       "   'loss': 0.917547345161438,\n",
       "   'time_step': 0.01800060272216797}),\n",
       " (49,\n",
       "  {'time_sample_batch': 0.0,\n",
       "   'time_algorithm_update': 0.013999700546264648,\n",
       "   'loss': 0.9207754731178284,\n",
       "   'time_step': 0.015997648239135742}),\n",
       " (50,\n",
       "  {'time_sample_batch': 0.0,\n",
       "   'time_algorithm_update': 0.011001348495483398,\n",
       "   'loss': 0.9097089767456055,\n",
       "   'time_step': 0.011997699737548828})]"
      ]
     },
     "execution_count": 7,
     "metadata": {},
     "output_type": "execute_result"
    }
   ],
   "source": [
    "output"
   ]
  },
  {
   "cell_type": "code",
   "execution_count": null,
   "metadata": {},
   "outputs": [],
   "source": [
    "# TODO: MAKE THIS WORK!\n",
    "\n",
    "# off-policy evaluation algorithm\n",
    "fqe = DiscreteFQE(algo=cql)\n",
    "\n",
    "# train estimators to evaluate the trained policy\n",
    "fqe.fit(test_episodes,\n",
    "   eval_episodes=test_episodes,\n",
    "   n_epochs=50,\n",
    "   scorers={\n",
    "      'init_value': initial_state_value_estimation_scorer,\n",
    "      'soft_opc': soft_opc_scorer(return_threshold=600)\n",
    "   }\n",
    ")"
   ]
  },
  {
   "cell_type": "markdown",
   "metadata": {},
   "source": [
    "Load Saved Model"
   ]
  },
  {
   "cell_type": "code",
   "execution_count": 2,
   "metadata": {},
   "outputs": [
    {
     "name": "stdout",
     "output_type": "stream",
     "text": [
      "2022-02-10 23:06.26 [warning  ] Unused arguments are passed.   action_scaler=None algorithm=DiscreteCQL generated_maxlen=100000 real_ratio=1.0\n"
     ]
    }
   ],
   "source": [
    "path =  \"C:\\\\Users\\\\micha\\\\Documents\\\\Masters\\\\Football-RL\\\\d3rlpy_logs\\\\DiscreteCQL_20220210223510\\\\\"\n",
    "m2 = DiscreteCQL.from_json(f'{path}params.json')\n",
    "\n",
    "# ready to load\n",
    "m2.load_model(f'{path}model_36975.pt')"
   ]
  },
  {
   "cell_type": "markdown",
   "metadata": {},
   "source": [
    "Visualise predictions"
   ]
  },
  {
   "cell_type": "code",
   "execution_count": 4,
   "metadata": {},
   "outputs": [
    {
     "name": "stdout",
     "output_type": "stream",
     "text": [
      "finished\n"
     ]
    },
    {
     "data": {
      "text/plain": [
       "{'carry': 126, 'pass': 151, 'shot': 3, 'clearance': 1}"
      ]
     },
     "execution_count": 4,
     "metadata": {},
     "output_type": "execute_result"
    }
   ],
   "source": [
    "ds = CreateDataset()\n",
    "ds.loadFile('data.json')\n",
    "\n",
    "visualiser = Visualiser()\n",
    "\n",
    "\n",
    "observations, actions, rewards = ds.createEpisodeDataset()\n",
    "answers = {}\n",
    "for situation in observations:\n",
    "\n",
    "    # print(situation)\n",
    "    predictions = m2.predict([situation])[0]\n",
    "\n",
    "    p = ds.ID_to_str[predictions]\n",
    "    if not (p in answers): answers[p] = 1\n",
    "    else: answers[p] += 1\n",
    "\n",
    "    if(p == \"shot\"):\n",
    "        visualiser.visualise_sequence(situation, 3, predictions)\n",
    "    \n",
    "    if(p == \"clearance\"):\n",
    "        visualiser.visualise_sequence(situation, 3, predictions)\n",
    "\n",
    "print(\"finished\")\n",
    "answers"
   ]
  },
  {
   "cell_type": "code",
   "execution_count": 9,
   "metadata": {},
   "outputs": [
    {
     "data": {
      "text/plain": [
       "{2.0: 105, 0.0: 168, 3.0: 7, 1.0: 1}"
      ]
     },
     "execution_count": 9,
     "metadata": {},
     "output_type": "execute_result"
    }
   ],
   "source": [
    "counts = {}\n",
    "\n",
    "for item in actions:\n",
    "    if not (item in counts): counts[item] = 1\n",
    "    else: counts[item] += 1\n",
    "\n",
    "counts\n"
   ]
  }
 ],
 "metadata": {
  "interpreter": {
   "hash": "2db524e06e9f5f4ffedc911c917cb75e12dbc923643829bf417064a77eb14d37"
  },
  "kernelspec": {
   "display_name": "Python 3.8.3 64-bit",
   "language": "python",
   "name": "python3"
  },
  "language_info": {
   "codemirror_mode": {
    "name": "ipython",
    "version": 3
   },
   "file_extension": ".py",
   "mimetype": "text/x-python",
   "name": "python",
   "nbconvert_exporter": "python",
   "pygments_lexer": "ipython3",
   "version": "3.8.3"
  },
  "orig_nbformat": 4
 },
 "nbformat": 4,
 "nbformat_minor": 2
}
