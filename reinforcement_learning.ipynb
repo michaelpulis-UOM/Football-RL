{
 "cells": [
  {
   "cell_type": "markdown",
   "metadata": {},
   "source": [
    "Import the required libraries"
   ]
  },
  {
   "cell_type": "code",
   "execution_count": 3,
   "metadata": {},
   "outputs": [
    {
     "name": "stdout",
     "output_type": "stream",
     "text": [
      "importing Jupyter notebook from FootballEnv.ipynb\n"
     ]
    }
   ],
   "source": [
    "from d3rlpy.datasets import get_cartpole\n",
    "from d3rlpy.algos import DiscreteCQL, DQN\n",
    "from d3rlpy.metrics.scorer import discounted_sum_of_advantage_scorer\n",
    "from d3rlpy.metrics.scorer import evaluate_on_environment\n",
    "from d3rlpy.dataset import Episode\n",
    "from d3rlpy.ope import DiscreteFQE\n",
    "from d3rlpy.dataset import MDPDataset\n",
    "\n",
    "from d3rlpy.metrics.scorer import td_error_scorer\n",
    "from d3rlpy.metrics.scorer import average_value_estimation_scorer\n",
    "from sklearn.model_selection import train_test_split\n",
    "\n",
    "import import_ipynb\n",
    "import numpy as np\n",
    "from random import random\n",
    "from create_dataset import CreateDataset\n",
    "from FootballEnv import FootballEnv\n",
    "from tqdm import tqdm\n",
    "\n",
    "from view import Visualiser\n",
    "\n",
    "# metrics to evaluate with\n",
    "from d3rlpy.metrics.scorer import initial_state_value_estimation_scorer\n",
    "from d3rlpy.metrics.scorer import soft_opc_scorer\n"
   ]
  },
  {
   "cell_type": "markdown",
   "metadata": {},
   "source": [
    "Helper function to create a dummy dataset"
   ]
  },
  {
   "cell_type": "code",
   "execution_count": 2,
   "metadata": {},
   "outputs": [],
   "source": [
    "def create_dataset():\n",
    "\n",
    "    dataset_maker = CreateDataset()\n",
    "    # dataset_maker.loadFile('data.json')\n",
    "    dataset_maker.loadFilesFromDir('events/*.json')\n",
    "    observations, actions, rewards = dataset_maker.createEpisodeDataset()\n",
    "    terminals = np.array([ 0 if (i+1) % dataset_maker.lim == 0 else 1 for i in range(len(actions)) ])\n",
    "    return MDPDataset(\n",
    "        observations,\n",
    "        actions,\n",
    "        rewards, \n",
    "        terminals,\n",
    "    ), observations"
   ]
  },
  {
   "cell_type": "code",
   "execution_count": null,
   "metadata": {},
   "outputs": [],
   "source": [
    "dataset, observations = create_dataset()\n",
    "train_episodes, test_episodes = train_test_split(dataset, test_size=0.2, shuffle=False)"
   ]
  },
  {
   "cell_type": "code",
   "execution_count": null,
   "metadata": {},
   "outputs": [],
   "source": [
    "len(train_episodes\n",
    ")"
   ]
  },
  {
   "cell_type": "code",
   "execution_count": null,
   "metadata": {},
   "outputs": [],
   "source": [
    "s = {}\n",
    "d = CreateDataset()\n",
    "for o in observations:\n",
    "    a = o[-3]\n",
    "    action = d.ID_to_str[a]\n",
    "\n",
    "    if action in s: s[action] += 1\n",
    "    else: s[action] = 1\n",
    "\n",
    "s"
   ]
  },
  {
   "cell_type": "code",
   "execution_count": null,
   "metadata": {},
   "outputs": [],
   "source": [
    "# setup CQL algorithm\n",
    "cql = DiscreteCQL(use_gpu=False, batch_size=32,)\n",
    "\n",
    "# env = FootballEnv(observations)\n",
    "# env.counter = 0\n",
    "\n",
    "# start training\n",
    "output = cql.fit(\n",
    "\n",
    "    train_episodes,\n",
    "    # eval_episodes=test_episodes,\n",
    "    n_epochs=25,\n",
    "    \n",
    "    scorers={\n",
    "        # 'environment': evaluate_on_environment(env), # evaluate with Football Env\n",
    "        'advantage': discounted_sum_of_advantage_scorer, # smaller is better\n",
    "        'td_error': td_error_scorer, # smaller is better\n",
    "        'value_scale': average_value_estimation_scorer # smaller is better\n",
    "    }\n",
    "    \n",
    ")"
   ]
  },
  {
   "cell_type": "code",
   "execution_count": null,
   "metadata": {},
   "outputs": [],
   "source": [
    "output"
   ]
  },
  {
   "cell_type": "code",
   "execution_count": null,
   "metadata": {},
   "outputs": [],
   "source": [
    "# TODO: MAKE THIS WORK!\n",
    "\n",
    "# off-policy evaluation algorithm\n",
    "fqe = DiscreteFQE(algo=cql)\n",
    "\n",
    "# train estimators to evaluate the trained policy\n",
    "fqe.fit(test_episodes,\n",
    "   eval_episodes=test_episodes,\n",
    "   n_epochs=50,\n",
    "   scorers={\n",
    "      'init_value': initial_state_value_estimation_scorer,\n",
    "      'soft_opc': soft_opc_scorer(return_threshold=600)\n",
    "   }\n",
    ")"
   ]
  },
  {
   "cell_type": "markdown",
   "metadata": {},
   "source": [
    "Load Saved Model"
   ]
  },
  {
   "cell_type": "code",
   "execution_count": 4,
   "metadata": {},
   "outputs": [
    {
     "name": "stdout",
     "output_type": "stream",
     "text": [
      "2022-02-15 20:43.29 [warning  ] Unused arguments are passed.   action_scaler=None algorithm=DiscreteCQL generated_maxlen=100000 real_ratio=1.0\n"
     ]
    }
   ],
   "source": [
    "path =  \"C:\\\\Users\\\\micha\\\\Documents\\\\Masters\\\\Football-RL\\\\d3rlpy_logs\\\\DiscreteCQL_20220210223510\\\\\"\n",
    "m2 = DiscreteCQL.from_json(f'{path}params.json')\n",
    "\n",
    "# ready to load\n",
    "m2.load_model(f'{path}model_36975.pt')"
   ]
  },
  {
   "cell_type": "markdown",
   "metadata": {},
   "source": [
    "Visualise predictions"
   ]
  },
  {
   "cell_type": "code",
   "execution_count": 13,
   "metadata": {},
   "outputs": [
    {
     "name": "stderr",
     "output_type": "stream",
     "text": [
      "51it [00:00, 509.99it/s]"
     ]
    },
    {
     "name": "stdout",
     "output_type": "stream",
     "text": [
      "(281, 15) 281\n"
     ]
    },
    {
     "name": "stderr",
     "output_type": "stream",
     "text": [
      "281it [00:00, 757.40it/s]"
     ]
    },
    {
     "name": "stdout",
     "output_type": "stream",
     "text": [
      "finished\n"
     ]
    },
    {
     "name": "stderr",
     "output_type": "stream",
     "text": [
      "\n"
     ]
    }
   ],
   "source": [
    "ds = CreateDataset()\n",
    "# ds.loadFilesFromDir('events/*.json')\n",
    "ds.loadFile('data.json')\n",
    "\n",
    "# visualiser = Visualiser()\n",
    "\n",
    "# ds.loadFilesFromDir('events/*.json')\n",
    "\n",
    "observations, actions, rewards, event_ids = ds.createEpisodeDataset()\n",
    "answers = {}\n",
    "players = {}\n",
    "\n",
    "\n",
    "print(observations.shape, len(event_ids))\n",
    "for i, situation in tqdm(enumerate(observations)):\n",
    "\n",
    "    # print(situation)\n",
    "    predictions = m2.predict([situation])[0]\n",
    "\n",
    "    p = ds.ID_to_str[predictions]\n",
    "    if not (p in answers): answers[p] = 1\n",
    "    else: answers[p] += 1\n",
    "\n",
    "    # if(p == \"shot\"):\n",
    "    #     print(event_ids[i])\n",
    "    #     print([ds.getPlayerFromActionID(event) for event in event_ids[i]])\n",
    "    event = ds.getActionFromID(event_ids[i][-2])\n",
    "    # visualiser.visualise_sequence(situation, 3, predictions, ds.getIDFromAction(event))\n",
    "\n",
    "    player = event['player']\n",
    "    if not(player['id'] in players):\n",
    "        players[player['id']] = {}\n",
    "        players[player['id']]['name'] = player['name']\n",
    "        players[player['id']]['good'] = 0\n",
    "        players[player['id']]['bad'] = 0\n",
    "        \n",
    "\n",
    "    # print(\"Action taken:\", ds.ID_to_str[ds.getIDFromAction(event)], p)\n",
    "    if predictions ==  ds.getIDFromAction(event):\n",
    "        players[player['id']]['good'] += 1\n",
    "    else:\n",
    "        players[player['id']]['bad'] += 1\n",
    "\n",
    "    if((players[player['id']]['good'] + players[player['id']]['bad']) > 0):\n",
    "        players[player['id']]['ratio'] = players[player['id']]['good'] / (players[player['id']]['good'] + players[player['id']]['bad']) \n",
    "    else:\n",
    "        players[player['id']]['ratio'] = 0\n",
    "        \n",
    "    \n",
    "    # if(p == \"clearance\"):\n",
    "    #     visualiser.visualise_sequence(situation, 3, predictions)\n",
    "\n",
    "print(\"finished\")"
   ]
  },
  {
   "cell_type": "code",
   "execution_count": 9,
   "metadata": {},
   "outputs": [
    {
     "data": {
      "text/plain": [
       "295892"
      ]
     },
     "execution_count": 9,
     "metadata": {},
     "output_type": "execute_result"
    }
   ],
   "source": [
    "len(observations)"
   ]
  },
  {
   "cell_type": "code",
   "execution_count": 14,
   "metadata": {},
   "outputs": [
    {
     "data": {
      "text/plain": [
       "29"
      ]
     },
     "execution_count": 14,
     "metadata": {},
     "output_type": "execute_result"
    }
   ],
   "source": [
    "len(players)"
   ]
  },
  {
   "cell_type": "code",
   "execution_count": 15,
   "metadata": {},
   "outputs": [
    {
     "data": {
      "text/plain": [
       "[(38196,\n",
       "  {'name': 'Daniel O\"Shaughnessy',\n",
       "   'good': 1,\n",
       "   'bad': 5,\n",
       "   'ratio': 0.16666666666666666}),\n",
       " (16550,\n",
       "  {'name': 'Jere Juhani Uronen',\n",
       "   'good': 1,\n",
       "   'bad': 10,\n",
       "   'ratio': 0.09090909090909091}),\n",
       " (20845,\n",
       "  {'name': 'Magomed Ozdoev',\n",
       "   'good': 1,\n",
       "   'bad': 12,\n",
       "   'ratio': 0.07692307692307693}),\n",
       " (5179, {'name': 'Daler Kuzyaev', 'good': 1, 'bad': 15, 'ratio': 0.0625}),\n",
       " (15416, {'name': 'Jukka Raitala', 'good': 0, 'bad': 8, 'ratio': 0.0}),\n",
       " (18735, {'name': 'Dmitriy Barinov', 'good': 0, 'bad': 27, 'ratio': 0.0}),\n",
       " (5177, {'name': 'Aleksandr Golovin', 'good': 0, 'bad': 23, 'ratio': 0.0}),\n",
       " (16583, {'name': 'Georgiy Dzhikiya', 'good': 0, 'bad': 17, 'ratio': 0.0}),\n",
       " (24321, {'name': 'Robin Lod', 'good': 0, 'bad': 9, 'ratio': 0.0}),\n",
       " (5171, {'name': 'Roman Zobnin', 'good': 0, 'bad': 14, 'ratio': 0.0})]"
      ]
     },
     "execution_count": 15,
     "metadata": {},
     "output_type": "execute_result"
    }
   ],
   "source": [
    "players_2 = {}\n",
    "for key, player in players.items():\n",
    "    if 'good' in player and 'bad' in player and (player['good'] + player['bad'] > 5):\n",
    "        players_2[key] = player\n",
    "\n",
    "\n",
    "players_sorted =  sorted(players_2.items(), key=lambda x: x[1]['ratio'], reverse=True)\n",
    "players_sorted[:10]\n"
   ]
  },
  {
   "cell_type": "code",
   "execution_count": 9,
   "metadata": {},
   "outputs": [
    {
     "data": {
      "text/plain": [
       "[(23843,\n",
       "  {'name': 'Diego Mariño Villar',\n",
       "   'good': 10,\n",
       "   'bad': 5,\n",
       "   'ratio': 0.6666666666666666}),\n",
       " (24083,\n",
       "  {'name': 'Manuel Reina Rodríguez',\n",
       "   'good': 9,\n",
       "   'bad': 5,\n",
       "   'ratio': 0.6428571428571429}),\n",
       " (26849,\n",
       "  {'name': 'Júlio César Jacobi',\n",
       "   'good': 7,\n",
       "   'bad': 4,\n",
       "   'ratio': 0.6363636363636364}),\n",
       " (6898,\n",
       "  {'name': 'Jaume Doménech Sánchez', 'good': 9, 'bad': 7, 'ratio': 0.5625}),\n",
       " (25870,\n",
       "  {'name': 'Juan Jesús Calatayud Sánchez',\n",
       "   'good': 12,\n",
       "   'bad': 11,\n",
       "   'ratio': 0.5217391304347826}),\n",
       " (6706,\n",
       "  {'name': 'Francisco Casilla Cortés', 'good': 17, 'bad': 17, 'ratio': 0.5}),\n",
       " (5619, {'name': 'Hyeon-Woo Jo', 'good': 7, 'bad': 7, 'ratio': 0.5}),\n",
       " (6629,\n",
       "  {'name': 'Fernando Pacheco Flores',\n",
       "   'good': 19,\n",
       "   'bad': 22,\n",
       "   'ratio': 0.4634146341463415}),\n",
       " (25611,\n",
       "  {'name': 'Vanina Noemí Correa',\n",
       "   'good': 5,\n",
       "   'bad': 6,\n",
       "   'ratio': 0.45454545454545453}),\n",
       " (5005,\n",
       "  {'name': 'Britt Eckerstrom',\n",
       "   'good': 10,\n",
       "   'bad': 12,\n",
       "   'ratio': 0.45454545454545453})]"
      ]
     },
     "execution_count": 9,
     "metadata": {},
     "output_type": "execute_result"
    }
   ],
   "source": [
    "\n",
    "players_sorted =  sorted(players_2.items(), key=lambda x: x[1]['ratio'], reverse=True)\n",
    "players_sorted[:10]\n"
   ]
  },
  {
   "cell_type": "code",
   "execution_count": null,
   "metadata": {},
   "outputs": [],
   "source": [
    "counts = {}\n",
    "\n",
    "for item in actions:\n",
    "    if not (item in counts): counts[item] = 1\n",
    "    else: counts[item] += 1\n",
    "\n",
    "counts\n"
   ]
  },
  {
   "cell_type": "code",
   "execution_count": null,
   "metadata": {},
   "outputs": [],
   "source": [
    "self.good_events = {\n",
    "            \n",
    "            'pass': self.PASS,\n",
    "            'shot': self.SHOOT,\n",
    "            'carry':self.CARRY,\n",
    "            'clearance':self.CLEAR,\n",
    "            # 'foul won': self.FOUL,\n",
    "            'foul': self.FOUL,\n",
    "\n",
    "        }"
   ]
  },
  {
   "cell_type": "code",
   "execution_count": 21,
   "metadata": {},
   "outputs": [
    {
     "data": {
      "text/plain": [
       "1971"
      ]
     },
     "execution_count": 21,
     "metadata": {},
     "output_type": "execute_result"
    }
   ],
   "source": [
    "import json\n",
    "\n",
    "player_data = {}\n",
    "events = {}\n",
    "with open (\"data.json\", \"r\") as file:\n",
    "    events = json.load(file)\n",
    "\n",
    "ds.ID_to_str[predictions]\n",
    "\n",
    "count = 0\n",
    "for event in events:\n",
    "    if event['type']['name'].lower() in ds.good_events:\n",
    "        player = event['player']\n",
    "\n",
    "        if player['id'] in player_data:\n",
    "        else:\n",
    "            player_data['id'] = {}\n",
    "            player_data['id']['name'] = player['name']\n",
    "            player_data['id']['good'] += 1\n",
    "\n",
    "count\n"
   ]
  }
 ],
 "metadata": {
  "interpreter": {
   "hash": "2db524e06e9f5f4ffedc911c917cb75e12dbc923643829bf417064a77eb14d37"
  },
  "kernelspec": {
   "display_name": "Python 3.8.3 64-bit",
   "language": "python",
   "name": "python3"
  },
  "language_info": {
   "codemirror_mode": {
    "name": "ipython",
    "version": 3
   },
   "file_extension": ".py",
   "mimetype": "text/x-python",
   "name": "python",
   "nbconvert_exporter": "python",
   "pygments_lexer": "ipython3",
   "version": "3.8.3"
  },
  "orig_nbformat": 4
 },
 "nbformat": 4,
 "nbformat_minor": 2
}
