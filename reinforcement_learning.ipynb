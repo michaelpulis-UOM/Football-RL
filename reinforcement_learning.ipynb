{
 "cells": [
  {
   "cell_type": "markdown",
   "metadata": {},
   "source": [
    "Import the required libraries"
   ]
  },
  {
   "cell_type": "code",
   "execution_count": 1,
   "metadata": {},
   "outputs": [
    {
     "name": "stdout",
     "output_type": "stream",
     "text": [
      "importing Jupyter notebook from FootballEnv.ipynb\n"
     ]
    }
   ],
   "source": [
    "from d3rlpy.datasets import get_cartpole\n",
    "from d3rlpy.algos import DiscreteCQL, DQN, TD3PlusBC\n",
    "from d3rlpy.metrics.scorer import discounted_sum_of_advantage_scorer\n",
    "from d3rlpy.metrics.scorer import evaluate_on_environment\n",
    "from d3rlpy.dataset import Episode\n",
    "from d3rlpy.ope import DiscreteFQE\n",
    "from d3rlpy.dataset import MDPDataset\n",
    "\n",
    "from d3rlpy.metrics.scorer import td_error_scorer\n",
    "from d3rlpy.metrics.scorer import average_value_estimation_scorer\n",
    "from sklearn.model_selection import train_test_split\n",
    "\n",
    "import import_ipynb\n",
    "import numpy as np\n",
    "from random import random\n",
    "from create_dataset import CreateDataset\n",
    "from FootballEnv import FootballEnv\n",
    "from tqdm import tqdm\n",
    "\n",
    "from view import Visualiser\n",
    "import math\n",
    "# metrics to evaluate with\n",
    "from d3rlpy.metrics.scorer import initial_state_value_estimation_scorer\n",
    "from d3rlpy.metrics.scorer import soft_opc_scorer\n"
   ]
  },
  {
   "cell_type": "markdown",
   "metadata": {},
   "source": [
    "Helper function to create a dummy dataset"
   ]
  },
  {
   "cell_type": "code",
   "execution_count": 2,
   "metadata": {},
   "outputs": [],
   "source": [
    "def create_dataset():\n",
    "\n",
    "    dataset_maker = CreateDataset()\n",
    "    # dataset_maker.loadFile('data.json')\n",
    "    dataset_maker.loadTrackingContentFromDir('three-sixty/*.json')\n",
    "\n",
    "    dataset_maker.loadFilesFromDir('events/*.json', filterGamesWithoutTrackingData=True)\n",
    "    observations, actions, rewards, episode_info = dataset_maker.createEpisodeDataset()\n",
    "    terminals = np.array([ 0 if (i+1) % dataset_maker.lim == 0 else 1 for i in range(len(actions)) ])\n",
    "    return MDPDataset(\n",
    "        observations,\n",
    "        actions,\n",
    "        rewards, \n",
    "        terminals,\n",
    "    ), observations"
   ]
  },
  {
   "cell_type": "code",
   "execution_count": 3,
   "metadata": {},
   "outputs": [
    {
     "name": "stderr",
     "output_type": "stream",
     "text": [
      "100%|██████████| 3/3 [00:00<00:00,  4.40it/s]\n",
      "100%|██████████| 1105/1105 [00:00<00:00, 3358.71it/s]\n"
     ]
    },
    {
     "name": "stdout",
     "output_type": "stream",
     "text": [
      "Events length:  5232\n"
     ]
    }
   ],
   "source": [
    "dataset, observations = create_dataset()\n",
    "train_episodes, test_episodes = train_test_split(dataset, test_size=0.2, shuffle=False)"
   ]
  },
  {
   "cell_type": "code",
   "execution_count": 5,
   "metadata": {},
   "outputs": [
    {
     "data": {
      "text/plain": [
       "120"
      ]
     },
     "execution_count": 5,
     "metadata": {},
     "output_type": "execute_result"
    }
   ],
   "source": [
    "len(test_episodes)"
   ]
  },
  {
   "cell_type": "code",
   "execution_count": null,
   "metadata": {},
   "outputs": [],
   "source": [
    "s = {}\n",
    "d = CreateDataset()\n",
    "for o in observations:\n",
    "    a = o[-3]\n",
    "    action = d.ID_to_str[a]\n",
    "\n",
    "    if action in s: s[action] += 1\n",
    "    else: s[action] = 1\n",
    "\n",
    "s"
   ]
  },
  {
   "cell_type": "code",
   "execution_count": null,
   "metadata": {},
   "outputs": [],
   "source": [
    "# setup CQL algorithm\n",
    "cql = DiscreteCQL(use_gpu=False, batch_size=32,)\n",
    "\n",
    "# env = FootballEnv(observations)\n",
    "# env.counter = 0\n",
    "\n",
    "# start training\n",
    "output = cql.fit(\n",
    "\n",
    "    train_episodes,\n",
    "    # eval_episodes=test_episodes,\n",
    "    n_epochs=25,\n",
    "    \n",
    "    scorers={\n",
    "        # 'environment': evaluate_on_environment(env), # evaluate with Football Env\n",
    "        'advantage': discounted_sum_of_advantage_scorer, # smaller is better\n",
    "        'td_error': td_error_scorer, # smaller is better\n",
    "        'value_scale': average_value_estimation_scorer # smaller is better\n",
    "    }\n",
    "    \n",
    ")"
   ]
  },
  {
   "cell_type": "code",
   "execution_count": null,
   "metadata": {},
   "outputs": [],
   "source": [
    "output"
   ]
  },
  {
   "cell_type": "code",
   "execution_count": null,
   "metadata": {},
   "outputs": [],
   "source": [
    "# TODO: MAKE THIS WORK!\n",
    "\n",
    "# off-policy evaluation algorithm\n",
    "fqe = DiscreteFQE(algo=cql)\n",
    "\n",
    "# train estimators to evaluate the trained policy\n",
    "fqe.fit(test_episodes,\n",
    "   eval_episodes=test_episodes,\n",
    "   n_epochs=50,\n",
    "   scorers={\n",
    "      'init_value': initial_state_value_estimation_scorer,\n",
    "      'soft_opc': soft_opc_scorer(return_threshold=600)\n",
    "   }\n",
    ")"
   ]
  },
  {
   "cell_type": "markdown",
   "metadata": {},
   "source": [
    "Load Saved Model"
   ]
  },
  {
   "cell_type": "code",
   "execution_count": 2,
   "metadata": {},
   "outputs": [
    {
     "name": "stdout",
     "output_type": "stream",
     "text": [
      "2022-04-04 17:03.10 [warning  ] Unused arguments are passed.   action_scaler=None algorithm=DiscreteCQL generated_maxlen=100000 real_ratio=1.0\n"
     ]
    }
   ],
   "source": [
    "path =  \"C:\\\\Users\\\\micha\\\\Documents\\\\Masters\\\\Football-RL\\\\d3rlpy_logs\\\\DiscreteCQL_20220210223510\\\\\"\n",
    "m2 = DiscreteCQL.from_json(f'{path}params.json')\n",
    "# d3rlpy_logs\\DQN_20220410175914\\model_2500.pt\n",
    "# ready to load\n",
    "m2.load_model(f'{path}model_36975.pt')"
   ]
  },
  {
   "cell_type": "code",
   "execution_count": 10,
   "metadata": {},
   "outputs": [],
   "source": [
    "def get_softmaxed(model, state, possible_actions):\n",
    "    values = [i for i in range(len(possible_actions))]\n",
    "\n",
    "    smallest = float(math.inf)\n",
    "    for action in possible_actions:\n",
    "        values[action] = model.predict_value([state], [action])\n",
    "        smallest = min(smallest, values[action])\n",
    "        \n",
    "    print(\"before before\" , values)\n",
    "    smallest = abs(smallest)\n",
    "    # make all positive\n",
    "    for action in possible_actions:\n",
    "        print(action)\n",
    "        values[action] += smallest\n",
    "\n",
    "    print(\"before\", values)\n",
    "    values = np.array(values)\n",
    "    values = np.exp(values) / np.sum(np.exp(values), axis=0)\n",
    "    return values\n",
    "    \n"
   ]
  },
  {
   "cell_type": "markdown",
   "metadata": {},
   "source": [
    "Visualise predictions"
   ]
  },
  {
   "cell_type": "code",
   "execution_count": 4,
   "metadata": {},
   "outputs": [],
   "source": [
    "ds = CreateDataset()\n",
    "# ds.loadFilesFromDir('events/*.json')\n",
    "ds.loadTrackingContentFromDir('three-sixty/*.json')\n",
    "\n",
    "ds.loadFilesFromDir('events/*.json', filterGamesWithoutTrackingData=True)\n",
    "# ds.loadFile('data.json')\n",
    "\n",
    "visualiser = Visualiser()\n",
    "\n",
    "# ds.loadFilesFromDir('events/*.json')\n",
    "\n",
    "print(\"hello\")\n",
    "observations, actions, rewards, event_ids = ds.createEpisodeDataset()\n",
    "answers = {}\n",
    "players = {}\n",
    "\n",
    "a_set = set()\n",
    "for a in actions:\n",
    "    a_set.add(a)\n",
    "\n",
    "for item in a_set:\n",
    "    print(ds.ID_to_str[item])\n",
    "\n",
    "\n",
    "print(observations.shape, len(event_ids))\n",
    "for i, situation in tqdm(enumerate(observations)):\n",
    "\n",
    "    # print(situation)\n",
    "    predictions = m2.predict([situation])[0]\n",
    "    g_s_m = get_softmaxed(m2, situation, list(ds.good_events.values()))\n",
    "    print(g_s_m, sum(g_s_m))\n",
    "\n",
    "    print(\"One Hot\", m2.predict([situation])[0])\n",
    "    for key, value in ds.good_events.items():\n",
    "        print(key, value)\n",
    "        print(f\"{key}: \", m2.predict_value([situation], [value]))\n",
    "        \n",
    "    p = ds.ID_to_str[predictions]\n",
    "    if not (p in answers): answers[p] = 1\n",
    "    else: answers[p] += 1\n",
    "\n",
    "    # if(p == \"shot\"):\n",
    "    #     print(event_ids[i])\n",
    "    #     print([ds.getPlayerFromActionID(event) for event in event_ids[i]])\n",
    "    event = ds.getActionFromID(event_ids[i][-2])\n",
    "    \n",
    "    if(p == \"shot\"):\n",
    "\n",
    "        event = ds.getActionFromID(event_ids[i][-2])\n",
    "        visualiser.visualise_sequence(situation, 3, predictions, ds.getIDFromAction(event))\n",
    "\n",
    "    player = event['player']\n",
    "    if not(player['id'] in players):\n",
    "        players[player['id']] = {}\n",
    "        players[player['id']]['name'] = player['name']\n",
    "        players[player['id']]['good'] = 0\n",
    "        players[player['id']]['bad'] = 0\n",
    "        \n",
    "\n",
    "    # print(\"Action taken:\", ds.ID_to_str[ds.getIDFromAction(event)], p)\n",
    "    if predictions ==  ds.getIDFromAction(event):\n",
    "        players[player['id']]['good'] += 1\n",
    "    else:\n",
    "        players[player['id']]['bad'] += 1\n",
    "\n",
    "    if((players[player['id']]['good'] + players[player['id']]['bad']) > 0):\n",
    "        players[player['id']]['ratio'] = players[player['id']]['good'] / (players[player['id']]['good'] + players[player['id']]['bad']) \n",
    "    else:\n",
    "        players[player['id']]['ratio'] = 0\n",
    "        \n",
    "    \n",
    "    # if(p == \"clearance\"):\n",
    "    #     visualiser.visualise_sequence(situation, 3, predictions)\n",
    "\n",
    "print(\"finished\")"
   ]
  },
  {
   "cell_type": "code",
   "execution_count": null,
   "metadata": {},
   "outputs": [],
   "source": [
    "players_2 = {}\n",
    "for key, player in players.items():\n",
    "    if 'good' in player and 'bad' in player and (player['good'] + player['bad'] > 5):\n",
    "        players_2[key] = player\n",
    "\n",
    "\n",
    "players_sorted =  sorted(players_2.items(), key=lambda x: x[1]['ratio'], reverse=True)\n",
    "players_sorted[:10]\n"
   ]
  },
  {
   "cell_type": "code",
   "execution_count": null,
   "metadata": {},
   "outputs": [],
   "source": [
    "\n",
    "players_sorted =  sorted(players_2.items(), key=lambda x: x[1]['ratio'], reverse=True)\n",
    "players_sorted[:10]\n"
   ]
  },
  {
   "cell_type": "code",
   "execution_count": null,
   "metadata": {},
   "outputs": [],
   "source": [
    "counts = {}\n",
    "\n",
    "for item in actions:\n",
    "    if not (item in counts): counts[item] = 1\n",
    "    else: counts[item] += 1\n",
    "\n",
    "counts\n"
   ]
  },
  {
   "cell_type": "code",
   "execution_count": null,
   "metadata": {},
   "outputs": [],
   "source": [
    "self.good_events = {\n",
    "    'pass': self.PASS,\n",
    "    'shot': self.SHOOT,\n",
    "    'carry':self.CARRY,\n",
    "    'clearance':self.CLEAR,\n",
    "    # 'foul won': self.FOUL,\n",
    "    'foul': self.FOUL,\n",
    "}"
   ]
  },
  {
   "cell_type": "code",
   "execution_count": null,
   "metadata": {},
   "outputs": [],
   "source": [
    "import json\n",
    "\n",
    "player_data = {}\n",
    "events = {}\n",
    "with open (\"data.json\", \"r\") as file:\n",
    "    events = json.load(file)\n",
    "\n",
    "ds.ID_to_str[predictions]\n",
    "\n",
    "count = 0\n",
    "for event in events:\n",
    "    if event['type']['name'].lower() in ds.good_events:\n",
    "        player = event['player']\n",
    "\n",
    "        if player['id'] in player_data:\n",
    "        else:\n",
    "            player_data['id'] = {}\n",
    "            player_data['id']['name'] = player['name']\n",
    "            player_data['id']['good'] += 1\n",
    "\n",
    "count\n"
   ]
  },
  {
   "cell_type": "markdown",
   "metadata": {},
   "source": [
    "Training using images"
   ]
  },
  {
   "cell_type": "code",
   "execution_count": 25,
   "metadata": {},
   "outputs": [],
   "source": [
    "from d3rlpy.datasets import get_cartpole\n",
    "from d3rlpy.algos import DiscreteCQL, DQN, CQL\n",
    "from d3rlpy.metrics.scorer import discounted_sum_of_advantage_scorer\n",
    "from d3rlpy.metrics.scorer import evaluate_on_environment\n",
    "from d3rlpy.dataset import Episode\n",
    "from d3rlpy.ope import DiscreteFQE\n",
    "from d3rlpy.dataset import MDPDataset\n",
    "\n",
    "from d3rlpy.metrics.scorer import td_error_scorer\n",
    "from d3rlpy.metrics.scorer import average_value_estimation_scorer\n",
    "from sklearn.model_selection import train_test_split\n",
    "\n",
    "import import_ipynb\n",
    "import numpy as np\n",
    "from random import random\n",
    "from create_dataset import CreateDataset\n",
    "from FootballEnv import FootballEnv\n",
    "from tqdm import tqdm\n",
    "\n",
    "from view import Visualiser\n",
    "import math\n",
    "# metrics to evaluate with\n",
    "from d3rlpy.metrics.scorer import initial_state_value_estimation_scorer\n",
    "from d3rlpy.metrics.scorer import soft_opc_scorer\n",
    "\n",
    "\n",
    "def create_dataset_images():\n",
    "\n",
    "    datasetMaker = CreateDataset()\n",
    "    datasetMaker.loadTrackingContentFromDir('three-sixty/*.json')\n",
    "    datasetMaker.file_limit = 5\n",
    "    datasetMaker.loadFilesFromDir('events/*.json', filterGamesWithoutTrackingData=True)\n",
    "    observations, actions, rewards, event_ids, terminals = datasetMaker.createImageDataset()\n",
    "\n",
    "    print(\"Actions shape:\", actions.shape)\n",
    "    print(\"Observation shape:\", observations.shape)\n",
    "\n",
    "    return MDPDataset(\n",
    "        observations,\n",
    "        np.array(actions, dtype=np.float32),\n",
    "        rewards, \n",
    "        terminals,\n",
    "    )"
   ]
  },
  {
   "cell_type": "code",
   "execution_count": 26,
   "metadata": {},
   "outputs": [
    {
     "name": "stderr",
     "output_type": "stream",
     "text": [
      "  2%|▏         | 1/50 [00:00<00:06,  7.04it/s]"
     ]
    },
    {
     "name": "stdout",
     "output_type": "stream",
     "text": [
      "Loading tracking content:\n"
     ]
    },
    {
     "name": "stderr",
     "output_type": "stream",
     "text": [
      "100%|██████████| 50/50 [00:10<00:00,  4.95it/s]\n",
      " 58%|█████▊    | 641/1105 [00:00<00:00, 7122.72it/s]\n",
      "  0%|          | 0/1821 [00:00<?, ?it/s]c:\\Users\\micha\\Documents\\Masters\\Football-RL\\create_dataset.py:198: RuntimeWarning: divide by zero encountered in true_divide\n",
      "  weights = 1 / dist\n",
      "c:\\Users\\micha\\Documents\\Masters\\Football-RL\\create_dataset.py:201: RuntimeWarning: invalid value encountered in true_divide\n",
      "  weights /= weights.sum(axis=0)\n",
      "100%|██████████| 1821/1821 [00:16<00:00, 109.19it/s]\n"
     ]
    },
    {
     "name": "stdout",
     "output_type": "stream",
     "text": [
      "Actions shape: (1821, 3)\n",
      "Observation shape: (1821, 3, 160, 240)\n",
      "205\n"
     ]
    },
    {
     "data": {
      "text/plain": [
       "(205, 164)"
      ]
     },
     "execution_count": 26,
     "metadata": {},
     "output_type": "execute_result"
    }
   ],
   "source": [
    "dataset = create_dataset_images()\n",
    "\n",
    "print(len(dataset))\n",
    "train_episodes, test_episodes = train_test_split(dataset, test_size=0.2, shuffle=False)\n",
    "len(dataset), len(train_episodes)"
   ]
  },
  {
   "cell_type": "code",
   "execution_count": 27,
   "metadata": {},
   "outputs": [
    {
     "ename": "AssertionError",
     "evalue": "The action-space of the given dataset is not compatible with the algorithm. Please use discrete action-space algorithms. The algorithms list is available below.\nhttps://d3rlpy.readthedocs.io/en/v1.0.0/references/algos.html",
     "output_type": "error",
     "traceback": [
      "\u001b[1;31m---------------------------------------------------------------------------\u001b[0m",
      "\u001b[1;31mAssertionError\u001b[0m                            Traceback (most recent call last)",
      "\u001b[1;32m<ipython-input-27-0ceb341658e6>\u001b[0m in \u001b[0;36m<module>\u001b[1;34m\u001b[0m\n\u001b[0;32m      3\u001b[0m \u001b[1;33m\u001b[0m\u001b[0m\n\u001b[0;32m      4\u001b[0m \u001b[1;31m# start training\u001b[0m\u001b[1;33m\u001b[0m\u001b[1;33m\u001b[0m\u001b[1;33m\u001b[0m\u001b[0m\n\u001b[1;32m----> 5\u001b[1;33m output = cql.fit(\n\u001b[0m\u001b[0;32m      6\u001b[0m \u001b[1;33m\u001b[0m\u001b[0m\n\u001b[0;32m      7\u001b[0m     \u001b[0mdataset\u001b[0m\u001b[1;33m,\u001b[0m\u001b[1;33m\u001b[0m\u001b[1;33m\u001b[0m\u001b[0m\n",
      "\u001b[1;32mC:\\Python38\\lib\\site-packages\\d3rlpy\\base.py\u001b[0m in \u001b[0;36mfit\u001b[1;34m(self, dataset, n_epochs, n_steps, n_steps_per_epoch, save_metrics, experiment_name, with_timestamp, logdir, verbose, show_progress, tensorboard_dir, eval_episodes, save_interval, scorers, shuffle, callback)\u001b[0m\n\u001b[0;32m    404\u001b[0m \u001b[1;33m\u001b[0m\u001b[0m\n\u001b[0;32m    405\u001b[0m         \"\"\"\n\u001b[1;32m--> 406\u001b[1;33m         results = list(\n\u001b[0m\u001b[0;32m    407\u001b[0m             self.fitter(\n\u001b[0;32m    408\u001b[0m                 \u001b[0mdataset\u001b[0m\u001b[1;33m,\u001b[0m\u001b[1;33m\u001b[0m\u001b[1;33m\u001b[0m\u001b[0m\n",
      "\u001b[1;32mC:\\Python38\\lib\\site-packages\\d3rlpy\\base.py\u001b[0m in \u001b[0;36mfitter\u001b[1;34m(self, dataset, n_epochs, n_steps, n_steps_per_epoch, save_metrics, experiment_name, with_timestamp, logdir, verbose, show_progress, tensorboard_dir, eval_episodes, save_interval, scorers, shuffle, callback)\u001b[0m\n\u001b[0;32m    505\u001b[0m             \u001b[1;32mpass\u001b[0m\u001b[1;33m\u001b[0m\u001b[1;33m\u001b[0m\u001b[0m\n\u001b[0;32m    506\u001b[0m         \u001b[1;32melif\u001b[0m \u001b[0mtransitions\u001b[0m\u001b[1;33m[\u001b[0m\u001b[1;36m0\u001b[0m\u001b[1;33m]\u001b[0m\u001b[1;33m.\u001b[0m\u001b[0mis_discrete\u001b[0m\u001b[1;33m:\u001b[0m\u001b[1;33m\u001b[0m\u001b[1;33m\u001b[0m\u001b[0m\n\u001b[1;32m--> 507\u001b[1;33m             assert (\n\u001b[0m\u001b[0;32m    508\u001b[0m                 \u001b[0mself\u001b[0m\u001b[1;33m.\u001b[0m\u001b[0mget_action_type\u001b[0m\u001b[1;33m(\u001b[0m\u001b[1;33m)\u001b[0m \u001b[1;33m==\u001b[0m \u001b[0mActionSpace\u001b[0m\u001b[1;33m.\u001b[0m\u001b[0mDISCRETE\u001b[0m\u001b[1;33m\u001b[0m\u001b[1;33m\u001b[0m\u001b[0m\n\u001b[0;32m    509\u001b[0m             ), DISCRETE_ACTION_SPACE_MISMATCH_ERROR\n",
      "\u001b[1;31mAssertionError\u001b[0m: The action-space of the given dataset is not compatible with the algorithm. Please use discrete action-space algorithms. The algorithms list is available below.\nhttps://d3rlpy.readthedocs.io/en/v1.0.0/references/algos.html"
     ]
    }
   ],
   "source": [
    "# setup td3 algorithm\n",
    "cql = CQL(use_gpu=False, scaler='pixel', n_frames=1)\n",
    "\n",
    "# start training\n",
    "output = cql.fit(\n",
    "\n",
    "    dataset,\n",
    "    n_epochs = 50,\n",
    "    # batch_size = 64,\n",
    "    # eval_episodes=test_episodes,\n",
    "    # n_epochs=25,\n",
    "    \n",
    "    scorers={\n",
    "        # 'environment': evaluate_on_environment(env), # evaluate with Football Env\n",
    "        'advantage': discounted_sum_of_advantage_scorer, # smaller is better\n",
    "        'td_error': td_error_scorer, # smaller is better\n",
    "        'value_scale': average_value_estimation_scorer # smaller is better\n",
    "    }\n",
    "    \n",
    ")"
   ]
  },
  {
   "cell_type": "code",
   "execution_count": null,
   "metadata": {},
   "outputs": [],
   "source": [
    "import cv2\n",
    "# d3rlpy_logs\\DQN_20220410175914\\model_2500.pt"
   ]
  },
  {
   "cell_type": "code",
   "execution_count": 12,
   "metadata": {},
   "outputs": [
    {
     "name": "stdout",
     "output_type": "stream",
     "text": [
      "2022-04-10 18:43.32 [warning  ] Unused arguments are passed.   action_scaler=None algorithm=DQN generated_maxlen=100000 real_ratio=1.0\n"
     ]
    }
   ],
   "source": [
    "path =  \"C:\\\\Users\\\\micha\\\\Documents\\\\Masters\\\\Football-RL\\\\d3rlpy_logs\\\\DQN_20220410175914\\\\\"\n",
    "dqn = DQN.from_json(f'{path}params.json')\n",
    "# \n",
    "# ready to load\n",
    "dqn.load_model(f'{path}model_2500.pt')"
   ]
  },
  {
   "cell_type": "code",
   "execution_count": 18,
   "metadata": {},
   "outputs": [
    {
     "name": "stderr",
     "output_type": "stream",
     "text": [
      "0it [00:00, ?it/s]"
     ]
    },
    {
     "name": "stdout",
     "output_type": "stream",
     "text": [
      "(1821, 3, 160, 240) 0\n",
      "(160, 240)\n"
     ]
    },
    {
     "name": "stderr",
     "output_type": "stream",
     "text": [
      "0it [00:01, ?it/s]"
     ]
    },
    {
     "name": "stdout",
     "output_type": "stream",
     "text": [
      "(1821, 3)\n",
      "[0. 4. 4.]\n",
      "PREDICTIONS !!!!!!!!!!!!\n",
      "[3]\n"
     ]
    },
    {
     "name": "stderr",
     "output_type": "stream",
     "text": [
      "\n"
     ]
    }
   ],
   "source": [
    "# ds = CreateDataset()\n",
    "# ds.loadTrackingContentFromDir('three-sixty/*.json')\n",
    "# ds.file_limit = 10\n",
    "# ds.loadFilesFromDir('events/*.json', filterGamesWithoutTrackingData=True)\n",
    "# observations, actions, rewards, event_ids, terminals = ds.createImageDataset()\n",
    "\n",
    "# answers = {}\n",
    "# players = {}\n",
    "\n",
    "import cv2\n",
    "# for item in a_set:\n",
    "#     print(ds.ID_to_str[item])\n",
    "\n",
    "print(observations.shape, len(event_ids))\n",
    "for i, situation in tqdm(enumerate(observations[:4])):\n",
    "\n",
    "    print(situation[0].shape)\n",
    "    cv2.imshow(\"image1\", situation[0])\n",
    "    cv2.imshow(\"image2\", situation[1])\n",
    "    cv2.imshow(\"image3\", situation[2])\n",
    "\n",
    "    cv2.waitKey(0)\n",
    "    cv2.destroyAllWindows()\n",
    "\n",
    "    predictions = dqn.predict([situation])\n",
    "    print(actions.shape)\n",
    "    print(actions[0])\n",
    "\n",
    "    print(\"PREDICTIONS !!!!!!!!!!!!\")\n",
    "    print(predictions)\n",
    "\n",
    "    break\n",
    "    \n",
    "    # if(p == \"shot\"):\n",
    "    #     print(event_ids[i])\n",
    "    #     print([ds.getPlayerFromActionID(event) for event in event_ids[i]])\n",
    "    # event = ds.getActionFromID(event_ids[i][-2])\n",
    "    "
   ]
  }
 ],
 "metadata": {
  "interpreter": {
   "hash": "2db524e06e9f5f4ffedc911c917cb75e12dbc923643829bf417064a77eb14d37"
  },
  "kernelspec": {
   "display_name": "Python 3.8.3 64-bit",
   "language": "python",
   "name": "python3"
  },
  "language_info": {
   "codemirror_mode": {
    "name": "ipython",
    "version": 3
   },
   "file_extension": ".py",
   "mimetype": "text/x-python",
   "name": "python",
   "nbconvert_exporter": "python",
   "pygments_lexer": "ipython3",
   "version": "3.8.3"
  },
  "orig_nbformat": 4
 },
 "nbformat": 4,
 "nbformat_minor": 2
}
