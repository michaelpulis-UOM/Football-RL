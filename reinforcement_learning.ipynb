{
 "cells": [
  {
   "cell_type": "markdown",
   "metadata": {},
   "source": [
    "Import the required libraries"
   ]
  },
  {
   "cell_type": "code",
   "execution_count": 1,
   "metadata": {},
   "outputs": [
    {
     "name": "stdout",
     "output_type": "stream",
     "text": [
      "importing Jupyter notebook from FootballEnv.ipynb\n"
     ]
    }
   ],
   "source": [
    "from d3rlpy.datasets import get_cartpole\n",
    "from d3rlpy.algos import DiscreteCQL, DQN\n",
    "from d3rlpy.metrics.scorer import discounted_sum_of_advantage_scorer\n",
    "from d3rlpy.metrics.scorer import evaluate_on_environment\n",
    "from d3rlpy.dataset import Episode\n",
    "from d3rlpy.ope import FQE\n",
    "from d3rlpy.dataset import MDPDataset\n",
    "\n",
    "from d3rlpy.metrics.scorer import td_error_scorer\n",
    "from d3rlpy.metrics.scorer import average_value_estimation_scorer\n",
    "from sklearn.model_selection import train_test_split\n",
    "\n",
    "import import_ipynb\n",
    "import numpy as np\n",
    "from random import random\n",
    "from create_dataset import CreateDataset\n",
    "from FootballEnv import FootballEnv"
   ]
  },
  {
   "cell_type": "markdown",
   "metadata": {},
   "source": [
    "Helper function to create a dummy dataset"
   ]
  },
  {
   "cell_type": "code",
   "execution_count": 2,
   "metadata": {},
   "outputs": [],
   "source": [
    "def create_dataset():\n",
    "\n",
    "    dataset_maker = CreateDataset()\n",
    "    dataset_maker.loadFile('data.json')\n",
    "\n",
    "    observations, actions, rewards = dataset_maker.createEpisodeDataset()\n",
    "    terminals = np.array([ 0 if (i+1) % dataset_maker.lim == 0 else 1 for i in range(len(actions)) ])\n",
    "    return MDPDataset(\n",
    "        observations,\n",
    "        actions,\n",
    "        rewards, \n",
    "        terminals,\n",
    "    ), observations"
   ]
  },
  {
   "cell_type": "code",
   "execution_count": 3,
   "metadata": {},
   "outputs": [],
   "source": [
    "dataset, observations = create_dataset()\n",
    "train_episodes, test_episodes = train_test_split(dataset, test_size=0.2, shuffle=False)\n"
   ]
  },
  {
   "cell_type": "code",
   "execution_count": 8,
   "metadata": {},
   "outputs": [
    {
     "data": {
      "text/plain": [
       "(281,)"
      ]
     },
     "execution_count": 8,
     "metadata": {},
     "output_type": "execute_result"
    }
   ],
   "source": [
    "dataset.rewards.shape"
   ]
  },
  {
   "cell_type": "code",
   "execution_count": null,
   "metadata": {},
   "outputs": [],
   "source": [
    "# setup CQL algorithm\n",
    "cql = DiscreteCQL(use_gpu=False)\n",
    "\n",
    "env = FootballEnv(observations)\n",
    "env.counter = 0\n",
    "\n",
    "# start training\n",
    "output = cql.fit(\n",
    "\n",
    "    train_episodes,\n",
    "    eval_episodes=test_episodes,\n",
    "    n_epochs=50,\n",
    "    scorers={\n",
    "        # 'environment': evaluate_on_environment(env), # evaluate with Football Env\n",
    "        'advantage': discounted_sum_of_advantage_scorer, # smaller is better\n",
    "        'td_error': td_error_scorer, # smaller is better\n",
    "        'value_scale': average_value_estimation_scorer # smaller is better\n",
    "    }\n",
    "    \n",
    ")"
   ]
  },
  {
   "cell_type": "code",
   "execution_count": null,
   "metadata": {},
   "outputs": [],
   "source": [
    "\n",
    "\n",
    "# off-policy evaluation algorithm\n",
    "fqe = FQE(algo=cql)\n",
    "\n",
    "# metrics to evaluate with\n",
    "from d3rlpy.metrics.scorer import initial_state_value_estimation_scorer\n",
    "from d3rlpy.metrics.scorer import soft_opc_scorer\n",
    "\n",
    "# train estimators to evaluate the trained policy\n",
    "fqe.fit(dataset.episodes,\n",
    "        eval_episodes=dataset.episodes,\n",
    "        scorers={\n",
    "           'init_value': initial_state_value_estimation_scorer,\n",
    "           'soft_opc': soft_opc_scorer(return_threshold=600)\n",
    "        })"
   ]
  },
  {
   "cell_type": "code",
   "execution_count": 13,
   "metadata": {},
   "outputs": [
    {
     "data": {
      "text/plain": [
       "{'carry': 82, 'pass': 199}"
      ]
     },
     "execution_count": 13,
     "metadata": {},
     "output_type": "execute_result"
    }
   ],
   "source": [
    "obs = env.reset()\n",
    "\n",
    "ds = CreateDataset()\n",
    "ds.loadFile('data.json')\n",
    "\n",
    "observations, actions, rewards = ds.createEpisodeDataset()\n",
    "answers = {}\n",
    "for situation in observations:\n",
    "\n",
    "    # print(situation)\n",
    "    predictions = cql.predict([situation])[0]\n",
    "\n",
    "    p = ds.ID_to_str[predictions]\n",
    "    if not (p in answers): answers[p] = 1\n",
    "    else: answers[p] += 1\n",
    "\n",
    "    # print(ds.ID_to_str[predictions])\n",
    "\n",
    "answers"
   ]
  },
  {
   "cell_type": "code",
   "execution_count": 15,
   "metadata": {},
   "outputs": [
    {
     "data": {
      "text/plain": [
       "{2.0: 105, 0.0: 168, 3.0: 7, 1.0: 1}"
      ]
     },
     "execution_count": 15,
     "metadata": {},
     "output_type": "execute_result"
    }
   ],
   "source": [
    "counts = {}\n",
    "\n",
    "for item in actions:\n",
    "    if not (item in counts): counts[item] = 1\n",
    "    else: counts[item] += 1\n",
    "\n",
    "counts\n"
   ]
  }
 ],
 "metadata": {
  "interpreter": {
   "hash": "2db524e06e9f5f4ffedc911c917cb75e12dbc923643829bf417064a77eb14d37"
  },
  "kernelspec": {
   "display_name": "Python 3.8.3 64-bit",
   "language": "python",
   "name": "python3"
  },
  "language_info": {
   "codemirror_mode": {
    "name": "ipython",
    "version": 3
   },
   "file_extension": ".py",
   "mimetype": "text/x-python",
   "name": "python",
   "nbconvert_exporter": "python",
   "pygments_lexer": "ipython3",
   "version": "3.8.3"
  },
  "orig_nbformat": 4
 },
 "nbformat": 4,
 "nbformat_minor": 2
}
