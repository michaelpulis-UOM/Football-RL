{
 "cells": [
  {
   "cell_type": "markdown",
   "metadata": {},
   "source": [
    "Import the required libraries"
   ]
  },
  {
   "cell_type": "code",
   "execution_count": 1,
   "metadata": {},
   "outputs": [
    {
     "name": "stdout",
     "output_type": "stream",
     "text": [
      "importing Jupyter notebook from FootballEnv.ipynb\n"
     ]
    }
   ],
   "source": [
    "from d3rlpy.datasets import get_cartpole\n",
    "from d3rlpy.algos import DiscreteCQL, DQN\n",
    "from d3rlpy.metrics.scorer import discounted_sum_of_advantage_scorer\n",
    "from d3rlpy.metrics.scorer import evaluate_on_environment\n",
    "from d3rlpy.dataset import Episode\n",
    "from d3rlpy.ope import DiscreteFQE\n",
    "from d3rlpy.dataset import MDPDataset\n",
    "\n",
    "from d3rlpy.metrics.scorer import td_error_scorer\n",
    "from d3rlpy.metrics.scorer import average_value_estimation_scorer\n",
    "from sklearn.model_selection import train_test_split\n",
    "\n",
    "import import_ipynb\n",
    "import numpy as np\n",
    "from random import random\n",
    "from create_dataset import CreateDataset\n",
    "from FootballEnv import FootballEnv\n",
    "from tqdm import tqdm\n",
    "\n",
    "from view import Visualiser\n",
    "\n",
    "# metrics to evaluate with\n",
    "from d3rlpy.metrics.scorer import initial_state_value_estimation_scorer\n",
    "from d3rlpy.metrics.scorer import soft_opc_scorer\n"
   ]
  },
  {
   "cell_type": "markdown",
   "metadata": {},
   "source": [
    "Helper function to create a dummy dataset"
   ]
  },
  {
   "cell_type": "code",
   "execution_count": 2,
   "metadata": {},
   "outputs": [],
   "source": [
    "def create_dataset():\n",
    "\n",
    "    dataset_maker = CreateDataset()\n",
    "    # dataset_maker.loadFile('data.json')\n",
    "    dataset_maker.loadFilesFromDir('events/*.json')\n",
    "    observations, actions, rewards = dataset_maker.createEpisodeDataset()\n",
    "    terminals = np.array([ 0 if (i+1) % dataset_maker.lim == 0 else 1 for i in range(len(actions)) ])\n",
    "    return MDPDataset(\n",
    "        observations,\n",
    "        actions,\n",
    "        rewards, \n",
    "        terminals,\n",
    "    ), observations"
   ]
  },
  {
   "cell_type": "code",
   "execution_count": null,
   "metadata": {},
   "outputs": [],
   "source": [
    "dataset, observations = create_dataset()\n",
    "train_episodes, test_episodes = train_test_split(dataset, test_size=0.2, shuffle=False)"
   ]
  },
  {
   "cell_type": "code",
   "execution_count": null,
   "metadata": {},
   "outputs": [],
   "source": [
    "len(train_episodes\n",
    ")"
   ]
  },
  {
   "cell_type": "code",
   "execution_count": null,
   "metadata": {},
   "outputs": [],
   "source": [
    "s = {}\n",
    "d = CreateDataset()\n",
    "for o in observations:\n",
    "    a = o[-3]\n",
    "    action = d.ID_to_str[a]\n",
    "\n",
    "    if action in s: s[action] += 1\n",
    "    else: s[action] = 1\n",
    "\n",
    "s"
   ]
  },
  {
   "cell_type": "code",
   "execution_count": null,
   "metadata": {},
   "outputs": [],
   "source": [
    "# setup CQL algorithm\n",
    "cql = DiscreteCQL(use_gpu=False, batch_size=32,)\n",
    "\n",
    "# env = FootballEnv(observations)\n",
    "# env.counter = 0\n",
    "\n",
    "# start training\n",
    "output = cql.fit(\n",
    "\n",
    "    train_episodes,\n",
    "    # eval_episodes=test_episodes,\n",
    "    n_epochs=25,\n",
    "    \n",
    "    scorers={\n",
    "        # 'environment': evaluate_on_environment(env), # evaluate with Football Env\n",
    "        'advantage': discounted_sum_of_advantage_scorer, # smaller is better\n",
    "        'td_error': td_error_scorer, # smaller is better\n",
    "        'value_scale': average_value_estimation_scorer # smaller is better\n",
    "    }\n",
    "    \n",
    ")"
   ]
  },
  {
   "cell_type": "code",
   "execution_count": null,
   "metadata": {},
   "outputs": [],
   "source": [
    "output"
   ]
  },
  {
   "cell_type": "code",
   "execution_count": null,
   "metadata": {},
   "outputs": [],
   "source": [
    "# TODO: MAKE THIS WORK!\n",
    "\n",
    "# off-policy evaluation algorithm\n",
    "fqe = DiscreteFQE(algo=cql)\n",
    "\n",
    "# train estimators to evaluate the trained policy\n",
    "fqe.fit(test_episodes,\n",
    "   eval_episodes=test_episodes,\n",
    "   n_epochs=50,\n",
    "   scorers={\n",
    "      'init_value': initial_state_value_estimation_scorer,\n",
    "      'soft_opc': soft_opc_scorer(return_threshold=600)\n",
    "   }\n",
    ")"
   ]
  },
  {
   "cell_type": "markdown",
   "metadata": {},
   "source": [
    "Load Saved Model"
   ]
  },
  {
   "cell_type": "code",
   "execution_count": 3,
   "metadata": {},
   "outputs": [
    {
     "name": "stdout",
     "output_type": "stream",
     "text": [
      "2022-02-15 19:38.54 [warning  ] Unused arguments are passed.   action_scaler=None algorithm=DiscreteCQL generated_maxlen=100000 real_ratio=1.0\n"
     ]
    }
   ],
   "source": [
    "path =  \"C:\\\\Users\\\\micha\\\\Documents\\\\Masters\\\\Football-RL\\\\d3rlpy_logs\\\\DiscreteCQL_20220210223510\\\\\"\n",
    "m2 = DiscreteCQL.from_json(f'{path}params.json')\n",
    "\n",
    "# ready to load\n",
    "m2.load_model(f'{path}model_36975.pt')"
   ]
  },
  {
   "cell_type": "markdown",
   "metadata": {},
   "source": [
    "Visualise predictions"
   ]
  },
  {
   "cell_type": "code",
   "execution_count": 2,
   "metadata": {},
   "outputs": [
    {
     "ename": "TypeError",
     "evalue": "list indices must be integers or slices, not str",
     "output_type": "error",
     "traceback": [
      "\u001b[1;31m---------------------------------------------------------------------------\u001b[0m",
      "\u001b[1;31mTypeError\u001b[0m                                 Traceback (most recent call last)",
      "\u001b[1;32m<ipython-input-2-24436af8a67d>\u001b[0m in \u001b[0;36m<module>\u001b[1;34m\u001b[0m\n\u001b[0;32m      1\u001b[0m \u001b[0mds\u001b[0m \u001b[1;33m=\u001b[0m \u001b[0mCreateDataset\u001b[0m\u001b[1;33m(\u001b[0m\u001b[1;33m)\u001b[0m\u001b[1;33m\u001b[0m\u001b[1;33m\u001b[0m\u001b[0m\n\u001b[0;32m      2\u001b[0m \u001b[1;31m# ds.loadFilesFromDir('events/*.json')\u001b[0m\u001b[1;33m\u001b[0m\u001b[1;33m\u001b[0m\u001b[1;33m\u001b[0m\u001b[0m\n\u001b[1;32m----> 3\u001b[1;33m \u001b[0mds\u001b[0m\u001b[1;33m.\u001b[0m\u001b[0mloadFile\u001b[0m\u001b[1;33m(\u001b[0m\u001b[1;34m'data.json'\u001b[0m\u001b[1;33m)\u001b[0m\u001b[1;33m\u001b[0m\u001b[1;33m\u001b[0m\u001b[0m\n\u001b[0m\u001b[0;32m      4\u001b[0m \u001b[1;33m\u001b[0m\u001b[0m\n\u001b[0;32m      5\u001b[0m \u001b[1;31m# visualiser = Visualiser()\u001b[0m\u001b[1;33m\u001b[0m\u001b[1;33m\u001b[0m\u001b[1;33m\u001b[0m\u001b[0m\n",
      "\u001b[1;32mc:\\Users\\micha\\Documents\\Masters\\Football-RL\\create_dataset.py\u001b[0m in \u001b[0;36mloadFile\u001b[1;34m(self, file_location)\u001b[0m\n\u001b[0;32m    233\u001b[0m \u001b[1;33m\u001b[0m\u001b[0m\n\u001b[0;32m    234\u001b[0m         \u001b[0mfiltered_game\u001b[0m \u001b[1;33m=\u001b[0m \u001b[0mself\u001b[0m\u001b[1;33m.\u001b[0m\u001b[0mfilter_game\u001b[0m\u001b[1;33m(\u001b[0m\u001b[0mgame\u001b[0m\u001b[1;33m)\u001b[0m\u001b[1;33m\u001b[0m\u001b[1;33m\u001b[0m\u001b[0m\n\u001b[1;32m--> 235\u001b[1;33m         \u001b[0mself\u001b[0m\u001b[1;33m.\u001b[0m\u001b[0mids\u001b[0m\u001b[1;33m[\u001b[0m\u001b[0mfiltered_game\u001b[0m\u001b[1;33m[\u001b[0m\u001b[1;34m'id'\u001b[0m\u001b[1;33m]\u001b[0m\u001b[1;33m]\u001b[0m \u001b[1;33m=\u001b[0m \u001b[0mlen\u001b[0m\u001b[1;33m(\u001b[0m\u001b[0mself\u001b[0m\u001b[1;33m.\u001b[0m\u001b[0mevents\u001b[0m\u001b[1;33m)\u001b[0m\u001b[1;33m\u001b[0m\u001b[1;33m\u001b[0m\u001b[0m\n\u001b[0m\u001b[0;32m    236\u001b[0m         \u001b[0mself\u001b[0m\u001b[1;33m.\u001b[0m\u001b[0mevents\u001b[0m\u001b[1;33m.\u001b[0m\u001b[0mappend\u001b[0m\u001b[1;33m(\u001b[0m\u001b[0mfiltered_game\u001b[0m\u001b[1;33m)\u001b[0m\u001b[1;33m\u001b[0m\u001b[1;33m\u001b[0m\u001b[0m\n\u001b[0;32m    237\u001b[0m \u001b[1;33m\u001b[0m\u001b[0m\n",
      "\u001b[1;31mTypeError\u001b[0m: list indices must be integers or slices, not str"
     ]
    }
   ],
   "source": [
    "ds = CreateDataset()\n",
    "# ds.loadFilesFromDir('events/*.json')\n",
    "ds.loadFile('data.json')\n",
    "\n",
    "# visualiser = Visualiser()\n",
    "\n",
    "# ds.loadFilesFromDir('events/*.json')\n",
    "\n",
    "observations, actions, rewards, event_ids = ds.createEpisodeDataset()\n",
    "answers = {}\n",
    "players = {}\n",
    "\n",
    "\n",
    "print(observations.shape, len(event_ids))\n",
    "for i, situation in tqdm(enumerate(observations)):\n",
    "\n",
    "    # print(situation)\n",
    "    predictions = m2.predict([situation])[0]\n",
    "\n",
    "    # p = ds.ID_to_str[predictions]\n",
    "    # if not (p in answers): answers[p] = 1\n",
    "    # else: answers[p] += 1\n",
    "\n",
    "    # if(p == \"shot\"):\n",
    "        # print(event_ids[i])\n",
    "        # print([ds.getPlayerFromActionID(event) for event in event_ids[i]])\n",
    "    # event = ds.getActionFromID(event_ids[i][-2])\n",
    "    # visualiser.visualise_sequence(situation, 3, predictions, ds.getIDFromAction(event))\n",
    "\n",
    "    # player = event['player']\n",
    "    # if not(player['id'] in players):\n",
    "    #     players[player['id']] = {}\n",
    "    #     players[player['id']]['name'] = player['name']\n",
    "    #     players[player['id']]['good'] = 0\n",
    "    #     players[player['id']]['bad'] = 0\n",
    "        \n",
    "\n",
    "    # # print(\"Action taken:\", ds.ID_to_str[ds.getIDFromAction(event)], p)\n",
    "    # if predictions ==  ds.getIDFromAction(event):\n",
    "    #     players[player['id']]['good'] += 1\n",
    "    # else:\n",
    "    #     players[player['id']]['bad'] += 1\n",
    "\n",
    "    # if((players[player['id']]['good'] + players[player['id']]['bad']) > 0):\n",
    "    #     players[player['id']]['ratio'] = players[player['id']]['good'] / (players[player['id']]['good'] + players[player['id']]['bad']) \n",
    "    # else:\n",
    "    #     players[player['id']]['ratio'] = 0\n",
    "        \n",
    "    \n",
    "    # if(p == \"clearance\"):\n",
    "    #     visualiser.visualise_sequence(situation, 3, predictions)\n",
    "\n",
    "print(\"finished\")"
   ]
  },
  {
   "cell_type": "code",
   "execution_count": 9,
   "metadata": {},
   "outputs": [
    {
     "data": {
      "text/plain": [
       "295892"
      ]
     },
     "execution_count": 9,
     "metadata": {},
     "output_type": "execute_result"
    }
   ],
   "source": [
    "len(observations)"
   ]
  },
  {
   "cell_type": "code",
   "execution_count": 7,
   "metadata": {},
   "outputs": [
    {
     "data": {
      "text/plain": [
       "694"
      ]
     },
     "execution_count": 7,
     "metadata": {},
     "output_type": "execute_result"
    }
   ],
   "source": [
    "len(players)"
   ]
  },
  {
   "cell_type": "code",
   "execution_count": 8,
   "metadata": {},
   "outputs": [
    {
     "data": {
      "text/plain": [
       "[(13108, {'name': 'Marc Cardona Rovira', 'good': 1, 'bad': 0, 'ratio': 1.0}),\n",
       " (21397, {'name': 'Stole Dimitrievski', 'good': 1, 'bad': 0, 'ratio': 1.0}),\n",
       " (24747, {'name': 'Millie Farrow', 'good': 1, 'bad': 0, 'ratio': 1.0}),\n",
       " (6378, {'name': 'Jan Oblak', 'good': 7, 'bad': 3, 'ratio': 0.7}),\n",
       " (6629,\n",
       "  {'name': 'Fernando Pacheco Flores',\n",
       "   'good': 4,\n",
       "   'bad': 2,\n",
       "   'ratio': 0.6666666666666666}),\n",
       " (6755,\n",
       "  {'name': 'Sergio Asenjo Andrés',\n",
       "   'good': 6,\n",
       "   'bad': 5,\n",
       "   'ratio': 0.5454545454545454}),\n",
       " (6935, {'name': 'Adrián Marín Gómez', 'good': 1, 'bad': 1, 'ratio': 0.5}),\n",
       " (19287,\n",
       "  {'name': 'Júlio César Soares de Espíndola',\n",
       "   'good': 3,\n",
       "   'bad': 3,\n",
       "   'ratio': 0.5}),\n",
       " (3630, {'name': 'Loris Karius', 'good': 2, 'bad': 2, 'ratio': 0.5}),\n",
       " (15709,\n",
       "  {'name': 'Megan Walsh', 'good': 44, 'bad': 53, 'ratio': 0.4536082474226804})]"
      ]
     },
     "execution_count": 8,
     "metadata": {},
     "output_type": "execute_result"
    }
   ],
   "source": [
    "players_sorted =  sorted(players.items(), key=lambda x: x[1]['ratio'], reverse=True)\n",
    "players_sorted[:10]"
   ]
  },
  {
   "cell_type": "code",
   "execution_count": null,
   "metadata": {},
   "outputs": [],
   "source": [
    "counts = {}\n",
    "\n",
    "for item in actions:\n",
    "    if not (item in counts): counts[item] = 1\n",
    "    else: counts[item] += 1\n",
    "\n",
    "counts\n"
   ]
  },
  {
   "cell_type": "code",
   "execution_count": null,
   "metadata": {},
   "outputs": [],
   "source": [
    "self.good_events = {\n",
    "            \n",
    "            'pass': self.PASS,\n",
    "            'shot': self.SHOOT,\n",
    "            'carry':self.CARRY,\n",
    "            'clearance':self.CLEAR,\n",
    "            # 'foul won': self.FOUL,\n",
    "            'foul': self.FOUL,\n",
    "\n",
    "        }"
   ]
  },
  {
   "cell_type": "code",
   "execution_count": 21,
   "metadata": {},
   "outputs": [
    {
     "data": {
      "text/plain": [
       "1971"
      ]
     },
     "execution_count": 21,
     "metadata": {},
     "output_type": "execute_result"
    }
   ],
   "source": [
    "import json\n",
    "\n",
    "player_data = {}\n",
    "events = {}\n",
    "with open (\"data.json\", \"r\") as file:\n",
    "    events = json.load(file)\n",
    "\n",
    "ds.ID_to_str[predictions]\n",
    "\n",
    "count = 0\n",
    "for event in events:\n",
    "    if event['type']['name'].lower() in ds.good_events:\n",
    "        player = event['player']\n",
    "\n",
    "        if player['id'] in player_data:\n",
    "        else:\n",
    "            player_data['id'] = {}\n",
    "            player_data['id']['name'] = player['name']\n",
    "            player_data['id']['good'] += 1\n",
    "\n",
    "count\n"
   ]
  }
 ],
 "metadata": {
  "interpreter": {
   "hash": "2db524e06e9f5f4ffedc911c917cb75e12dbc923643829bf417064a77eb14d37"
  },
  "kernelspec": {
   "display_name": "Python 3.8.3 64-bit",
   "language": "python",
   "name": "python3"
  },
  "language_info": {
   "codemirror_mode": {
    "name": "ipython",
    "version": 3
   },
   "file_extension": ".py",
   "mimetype": "text/x-python",
   "name": "python",
   "nbconvert_exporter": "python",
   "pygments_lexer": "ipython3",
   "version": "3.8.3"
  },
  "orig_nbformat": 4
 },
 "nbformat": 4,
 "nbformat_minor": 2
}
